{
 "cells": [
  {
   "cell_type": "code",
   "execution_count": null,
   "id": "e545bc78-8937-47f2-bf19-134cf0f6b019",
   "metadata": {},
   "outputs": [],
   "source": [
    "# Combine all data from P1, P2 into final CCRI layer"
   ]
  },
  {
   "cell_type": "code",
   "execution_count": 1,
   "id": "a89a2d11-ec1d-408f-ab0b-9d05fd472cd3",
   "metadata": {},
   "outputs": [],
   "source": [
    "import os\n",
    "import pandas as pd\n",
    "import geopandas as gpd\n",
    "import glob\n",
    "import numpy as np"
   ]
  },
  {
   "cell_type": "code",
   "execution_count": 2,
   "id": "e23f2052-6c10-42fc-ae54-96667be10c49",
   "metadata": {},
   "outputs": [
    {
     "name": "stdin",
     "output_type": "stream",
     "text": [
      "Enter data directory: /Users/kelseydoerksen/code/unicef/ccri/data\n"
     ]
    },
    {
     "name": "stdout",
     "output_type": "stream",
     "text": [
      "/Users/kelseydoerksen/code/unicef/ccri/data\n"
     ]
    }
   ],
   "source": [
    "# Query data dir (avoiding hard-coding paths when working between users)\n",
    "data_dir = input('Enter data directory:')\n",
    "print(data_dir)"
   ]
  },
  {
   "cell_type": "code",
   "execution_count": 158,
   "id": "8237e488-357b-4802-a06d-e719979710d7",
   "metadata": {},
   "outputs": [
    {
     "data": {
      "text/plain": [
       "'/Users/kelseydoerksen/code/unicef/ccri/data'"
      ]
     },
     "execution_count": 158,
     "metadata": {},
     "output_type": "execute_result"
    }
   ],
   "source": [
    "# Check that data dir was input correctly\n",
    "data_dir"
   ]
  },
  {
   "cell_type": "code",
   "execution_count": 159,
   "id": "d5a68690-496e-4e6a-b9c4-27bc2dfe356a",
   "metadata": {},
   "outputs": [],
   "source": [
    "# Read in all the data we need\n",
    "# -- exposure files\n",
    "p1_exposure_file = pd.read_csv('{}/CCRI_results_misc/Merged_Exposure_Data.csv'.format(data_dir))\n",
    "p2_exposure_file = pd.read_csv('{}/CCRI_results_misc/P2_Merged_Normalized_avg.csv'.format(data_dir))\n",
    "p1p2_scores = pd.read_csv('{}/CCRI_results_misc/p1_p2_avg_ccri.csv'.format(data_dir))\n",
    "\n",
    "# -- attribute files\n",
    "wb_income = pd.read_csv('{}/misc/WB_INCOME.csv'.format(data_dir))\n",
    "unicef_ro = pd.read_csv('{}/misc/UNICEF_PROG_REG_GLOBAL.csv'.format(data_dir))\n",
    "\n",
    "# -- population files\n",
    "childpop = pd.read_csv('{}/CCRI_results_misc/child_pop_sum_adm0.csv'.format(data_dir))\n",
    "#worldpop = pd.read_csv('{}/Misc/World_Population_ByAOI_adm0.csv'.format(data_dir))\n",
    "\n",
    "# -- boundary file\n",
    "adm0 = gpd.read_file('{}/misc/adm0_boundaries_simple.geojson'.format(data_dir))\n",
    "\n",
    "# -- fragile codes\n",
    "fragile = pd.read_csv('{}/misc/List of fragile context (2025).csv'.format(data_dir))\n",
    "\n",
    "# -- component vals\n",
    "p1_components = pd.read_csv('{}/CCRI_results_misc/p1_group_mean.csv'.format(data_dir))\n",
    "p2_components = pd.read_csv('{}/CCRI_results_misc/p2_group_mean.csv'.format(data_dir))"
   ]
  },
  {
   "cell_type": "code",
   "execution_count": 160,
   "id": "3255d8f1-4b09-4d4f-8c52-d8444259c8c4",
   "metadata": {},
   "outputs": [],
   "source": [
    "# Renaming some columns \n",
    "p1_exposure_file.columns = [col.replace('_absolute', '_abs_norm') if '_absolute' in col else col for col in p1_exposure_file.columns]\n",
    "p1_exposure_file.columns = [col.replace('_relative', '_rel_norm') if '_relative' in col else col for col in p1_exposure_file.columns]"
   ]
  },
  {
   "cell_type": "code",
   "execution_count": 161,
   "id": "0485516a-c472-479c-b8f8-4365140643b8",
   "metadata": {},
   "outputs": [],
   "source": [
    "# Merge P exposures by ISO3\n",
    "merged_P = (p1_exposure_file.merge(p2_exposure_file, on='iso3', how='left'))\n",
    "all_P = (merged_P.merge(p1p2_scores, on='iso3', how='left'))"
   ]
  },
  {
   "cell_type": "code",
   "execution_count": 162,
   "id": "246baad3-efad-4d04-882b-65cd90cddc77",
   "metadata": {},
   "outputs": [],
   "source": [
    "all_P = all_P.rename(columns={'iso3':'ISO3'})"
   ]
  },
  {
   "cell_type": "code",
   "execution_count": 163,
   "id": "5446dbed-34d0-4263-bf29-da1030b436d1",
   "metadata": {},
   "outputs": [],
   "source": [
    "all_P = all_P.drop(columns=['P2_arithmetic_avg_y', 'rank_reverse_x'])\n",
    "all_P = all_P.rename(columns={'P2_arithmetic_avg_x': 'P2_arithmetic_avg', 'rank_reverse_y': 'rank_reverse'})"
   ]
  },
  {
   "cell_type": "code",
   "execution_count": 164,
   "id": "83c8d742-3a25-427c-8706-229fcc830b52",
   "metadata": {},
   "outputs": [],
   "source": [
    "# Add WB income\n",
    "wb_income = wb_income[['Region_Code', 'ISO3Code']]\n",
    "df = (all_P.merge(wb_income, left_on='ISO3', right_on='ISO3Code', how='left').drop('ISO3Code', axis=1).rename(columns={'Region_Code': 'wb_income'}))"
   ]
  },
  {
   "cell_type": "code",
   "execution_count": 165,
   "id": "d9b3075f-8896-4b1c-b2bf-980fd61381f6",
   "metadata": {},
   "outputs": [],
   "source": [
    "# Add Regional Office\n",
    "unicef_ro = unicef_ro[['Region_Code','ISO3Code']]\n",
    "df = (df.merge(unicef_ro, left_on='ISO3', right_on='ISO3Code', how='left').drop('ISO3Code', axis=1).rename(columns={'Region_Code': 'unicef_ro'}))"
   ]
  },
  {
   "cell_type": "code",
   "execution_count": 166,
   "id": "139c5c0e-8205-4a5b-b025-90bf52901682",
   "metadata": {},
   "outputs": [],
   "source": [
    "# Add population data\n",
    "df_w_childpop = (df.merge(childpop, how='left').rename(columns={'child_population': 'u18_pop'})).drop(columns=['child_population_gpw'])\n",
    "df_w_childpop['u18_pop'] = df_w_childpop['u18_pop'].astype(int)"
   ]
  },
  {
   "cell_type": "code",
   "execution_count": 167,
   "id": "54d2fcb8-8f11-47f5-86ca-9cc884b47821",
   "metadata": {},
   "outputs": [
    {
     "data": {
      "text/plain": [
       "\"\\n# Using World_Population_ByAOI_adm0.csv file -> removing for now to use the population data from the exposure files to keep consistent\\ndf_w_allpop = (df_w_childpop.merge(worldpop, left_on='name', right_on='adm0_name', how='left').rename(columns={'sum': 'total_pop'})).drop(columns=['iso3','adm0_name'])\\n\\n# Set population data as integer\\ndf_w_allpop['u18_pop'] = df_w_allpop['u18_pop'].astype(int)\\ndf_w_allpop['total_pop'] = df_w_allpop['total_pop'].astype(int)\\n\""
      ]
     },
     "execution_count": 167,
     "metadata": {},
     "output_type": "execute_result"
    }
   ],
   "source": [
    "'''\n",
    "# Using World_Population_ByAOI_adm0.csv file -> removing for now to use the population data from the exposure files to keep consistent\n",
    "df_w_allpop = (df_w_childpop.merge(worldpop, left_on='name', right_on='adm0_name', how='left').rename(columns={'sum': 'total_pop'})).drop(columns=['iso3','adm0_name'])\n",
    "\n",
    "# Set population data as integer\n",
    "df_w_allpop['u18_pop'] = df_w_allpop['u18_pop'].astype(int)\n",
    "df_w_allpop['total_pop'] = df_w_allpop['total_pop'].astype(int)\n",
    "'''"
   ]
  },
  {
   "cell_type": "code",
   "execution_count": 168,
   "id": "e7724021-7d7b-48b7-acd6-06b4805bf31c",
   "metadata": {},
   "outputs": [],
   "source": [
    "# Using simplified boundaries for geometry \n",
    "adm0 = adm0[['ISO3', 'name', 'ucode','uuid','geometry','type']]\n",
    "df_combined = (df_w_childpop.merge(adm0, on=['ISO3', 'name'], how='left'))"
   ]
  },
  {
   "cell_type": "code",
   "execution_count": 169,
   "id": "08ca57b1-0369-42e9-a4b6-6860cfe2dfc3",
   "metadata": {},
   "outputs": [],
   "source": [
    "# Grabbing actual exposure numbers\n",
    "# Define file paths\n",
    "exposure_path = \"{}/p1_exposure\".format(data_dir)\n",
    "\n",
    "# Get all CSV files for exposure\n",
    "exposure_files = glob.glob(os.path.join(exposure_path, \"*.csv\"))\n",
    "\n",
    "# Initialize empty list for processed data\n",
    "exposure_data_list = []\n",
    "\n",
    "### **Process Each File in One Loop**\n",
    "for file in exposure_files:\n",
    "    df = pd.read_csv(file)  # Read full file to check available columns\n",
    "    filename_only = os.path.basename(file)\n",
    "    hazard_name = '_'.join(filename_only.split('_')[:2])  # Extract hazard name\n",
    "\n",
    "    # Ensure required columns exist\n",
    "    required_cols = {'iso3', 'adm0_name', 'child_population_exposed'}\n",
    "    if not required_cols.issubset(df.columns):\n",
    "        print(f\"Skipping {file}: Missing columns {required_cols - set(df.columns)}\")\n",
    "        continue  # Skip if required columns are missing\n",
    "\n",
    "    df.dropna(subset=['child_population_exposed'], inplace=True)\n",
    "\n",
    "    # Compute relative exposure (%)\n",
    "    df['{}_rel'.format(hazard_name)] = np.where(\n",
    "        (df['child_population_total'] > 0) & (~df['child_population_total'].isna()),\n",
    "        (df['child_population_exposed'] / df['child_population_total']) * 100,\n",
    "        0\n",
    "    )\n",
    "\n",
    "    # Rename to hazard\n",
    "    df = df.rename(columns={'child_population_exposed': '{}_abs'.format(hazard_name)})\n",
    "    df = df.drop(columns=['child_population_total']) \n",
    "    \n",
    "    exposure_data_list.append(df)"
   ]
  },
  {
   "cell_type": "code",
   "execution_count": 170,
   "id": "5bb173da-2e50-4675-9df8-26908f7d6ff7",
   "metadata": {},
   "outputs": [],
   "source": [
    "merged_exposure_df = pd.concat(exposure_data_list, axis=1).drop_duplicates(subset=['iso3', 'adm0_name'])\n",
    "# Ensure no duplicate columns before merging\n",
    "merged_exposure_df = merged_exposure_df.loc[:, ~merged_exposure_df.columns.duplicated()]"
   ]
  },
  {
   "cell_type": "code",
   "execution_count": 171,
   "id": "a51be2de-11e4-4319-8c72-8f2c99aa77de",
   "metadata": {},
   "outputs": [],
   "source": [
    "df_combined = (df_combined.merge(merged_exposure_df, left_on=['ISO3', 'adm0_name'], right_on=['iso3', 'adm0_name'], how='left'))"
   ]
  },
  {
   "cell_type": "code",
   "execution_count": 172,
   "id": "2750b182-a38a-44ac-8476-21a60c1c716c",
   "metadata": {},
   "outputs": [],
   "source": [
    "df_combined = df_combined.rename(columns={'population_total': 'total_pop'})"
   ]
  },
  {
   "cell_type": "code",
   "execution_count": 173,
   "id": "334e4bdb-9066-4e1a-88fa-3d88c8f138df",
   "metadata": {},
   "outputs": [],
   "source": [
    "# --- Adding P2 data\n",
    "vul_path = \"{}/p2_vulnerability\".format(data_dir)\n",
    "total_population_file = \"{}/CCRI_results_misc/child_pop_sum_adm0.csv\".format(data_dir)\n",
    "\n",
    "# Load total child population data\n",
    "total_pop_df = pd.read_csv(total_population_file, usecols=['ISO3', 'name', 'child_population'])\n",
    "\n",
    "# Ensure unique ISO3-name pairs before merging\n",
    "total_pop_df = total_pop_df.groupby(['ISO3', 'name'], as_index=False).agg({'child_population': 'mean'})\n",
    "\n",
    "# Get all CSV files for exposure\n",
    "p2_vul_files = glob.glob(os.path.join(vul_path, \"*.csv\"))\n",
    "\n",
    "# Initialize empty list for processed data\n",
    "vul_data_list = []\n",
    "\n",
    "for file in p2_vul_files:\n",
    "    df = pd.read_csv(file)  # Read full file to check available columns\n",
    "    if 'iso3' not in df.columns or 'value' not in df.columns:\n",
    "        continue  # Skip files missing required columns\n",
    "    # Normalize 'value' column\n",
    "    df = df[['iso3', 'value']].dropna()\n",
    "    df = df.rename(columns={'iso3': 'ISO3'}, errors='ignore')\n",
    "    filename_only = os.path.basename(file)\n",
    "    hazard_name = '_'.join(filename_only.split('.csv')[:1])  # Extract hazard name\n",
    "    if hazard_name == 'P2_Child_Mortality':\n",
    "        continue\n",
    "\n",
    "    # merge with population data\n",
    "    df = (df.merge(total_pop_df, on='ISO3', how='left'))\n",
    "\n",
    "    # Compute total and relative vulnerability\n",
    "    df['{}'.format(hazard_name)] = np.where(\n",
    "        (df['child_population'] > 0) & (~df['child_population'].isna()),\n",
    "        (df['value']),\n",
    "        0\n",
    "    )\n",
    "\n",
    "    # Rename for relative\n",
    "    df = df.drop(columns=['child_population', 'time_period', 'data_source', 'value'], errors='ignore')\n",
    "    \n",
    "    vul_data_list.append(df)"
   ]
  },
  {
   "cell_type": "code",
   "execution_count": 174,
   "id": "da6575b5-357a-434a-ab6c-798ba3812415",
   "metadata": {},
   "outputs": [],
   "source": [
    "for i in range(len(vul_data_list)):\n",
    "    df_combined = (df_combined.merge(vul_data_list[i], on=['ISO3', 'name'], how='left'))"
   ]
  },
  {
   "cell_type": "code",
   "execution_count": 175,
   "id": "c2de72f6-6d29-40b8-85c1-28db0e3682a6",
   "metadata": {},
   "outputs": [],
   "source": [
    "# Add fragile\n",
    "fragile['fragile'] = 'fragile'\n",
    "df_combined = (df_combined.merge(fragile[['ISO3','fragile']], on=['ISO3'], how='left'))"
   ]
  },
  {
   "cell_type": "code",
   "execution_count": 182,
   "id": "25dc2777-2968-4d59-a81b-bdeb5396ff4f",
   "metadata": {},
   "outputs": [],
   "source": [
    "df_combined = df_combined.drop(columns=['iso3'])"
   ]
  },
  {
   "cell_type": "code",
   "execution_count": 183,
   "id": "ff27bd37-9d70-4284-aad3-719b9c47e9d5",
   "metadata": {},
   "outputs": [],
   "source": [
    "# Add components\n",
    "# Rename\n",
    "p1_components = p1_components.rename(columns={'river_flood_gmean': 'P1_rfl', 'coastal_flood_gmean': 'P1_cfl',\n",
    "                                             'storm_gmean': 'P1_ts', 'drought_gmean': 'P1_dr', 'heat_gmean': 'P1_hw',\n",
    "                                             'fire_gmean': 'P1_fr', 'sand_dust_gmean': 'P1_sds', 'air_pollution_gmean': 'P1_pm25',\n",
    "                                             'malaria_gmean': 'P1_mal'})\n",
    "\n",
    "p2_components = p2_components.rename(columns={'health': 'P2_hea', 'nutrition': 'P2_nut', 'education': 'P2_edu',\n",
    "                                             'protection': 'P2_pro', 'poverty': 'P2_pov', 'survival': 'P2_sur'})"
   ]
  },
  {
   "cell_type": "code",
   "execution_count": 184,
   "id": "fbefcbd6-01ea-49b8-af4c-a392b0da547e",
   "metadata": {},
   "outputs": [],
   "source": [
    "df_combined = (df_combined.merge(p1_components, left_on=['ISO3', 'adm0_name'], right_on=['iso3', 'adm0_name'], how='left'))"
   ]
  },
  {
   "cell_type": "code",
   "execution_count": 185,
   "id": "d7d6ebe4-403e-40d2-8d1c-2f5b012d90a6",
   "metadata": {},
   "outputs": [],
   "source": [
    "df_combined = (df_combined.merge(p2_components, left_on=['ISO3'], right_on=['iso3'], how='left'))"
   ]
  },
  {
   "cell_type": "code",
   "execution_count": 186,
   "id": "31ae7196-03be-4b79-888f-c12f169c25ec",
   "metadata": {},
   "outputs": [],
   "source": [
    "df_combined = df_combined.drop(columns=['adm0_name'])"
   ]
  },
  {
   "cell_type": "code",
   "execution_count": 187,
   "id": "46e4e26f-cb71-449f-85b8-cb944d869db0",
   "metadata": {},
   "outputs": [],
   "source": [
    "# Remove any columns we don't want and rearrange as well\n",
    "# -- Dropping\n",
    "# Drop min, max\n",
    "df_combined = df_combined.drop(df_combined.filter(regex='max').columns, axis=1)\n",
    "df_combined = df_combined.drop(df_combined.filter(regex='min').columns, axis=1)\n",
    "\n",
    "# -- Renaming\n",
    "df_combined = df_combined.rename(columns={'name': 'adm_name', 'P1_P2_geometric_avg': 'ccri', 'ISO3':'iso3'})"
   ]
  },
  {
   "cell_type": "code",
   "execution_count": 188,
   "id": "530a976d-0353-4f2d-9060-c49ad6854653",
   "metadata": {},
   "outputs": [],
   "source": [
    "# Set to 2 decimal places\n",
    "for col in df_combined.columns:\n",
    "    if type(df_combined['{}'.format(col)].iloc[0]) != str:\n",
    "        if col in ['wb_income', 'unicef_ro', 'geometry', 'fragile']:\n",
    "            continue\n",
    "        else:\n",
    "            df_combined[col] = df_combined[col].round(2)"
   ]
  },
  {
   "cell_type": "code",
   "execution_count": 189,
   "id": "33e163de-a352-4fe5-bd65-dcf4cfd7a3ae",
   "metadata": {},
   "outputs": [],
   "source": [
    "# Population to integer\n",
    "df_combined['u18_pop'] = df_combined['u18_pop'].astype(int)\n",
    "df_combined['total_pop'] = df_combined['total_pop'].astype(int)"
   ]
  },
  {
   "cell_type": "code",
   "execution_count": 190,
   "id": "1f10a387-b18e-411a-8e2e-15de9e6aa797",
   "metadata": {},
   "outputs": [],
   "source": [
    "# Rename normalized to _norm\n",
    "df_combined.columns = [col.replace('_normalized', '_norm') if 'normalized' in col else col for col in df_combined.columns]"
   ]
  },
  {
   "cell_type": "code",
   "execution_count": 191,
   "id": "e71cbe62-8611-412b-b4b9-1c8268ddbe46",
   "metadata": {},
   "outputs": [
    {
     "data": {
      "text/plain": [
       "['iso3',\n",
       " 'river_flood_abs_norm',\n",
       " 'river_flood_rel_norm',\n",
       " 'coastal_flood_abs_norm',\n",
       " 'coastal_flood_rel_norm',\n",
       " 'tropical_storm_abs_norm',\n",
       " 'tropical_storm_rel_norm',\n",
       " 'agricultural_drought_abs_norm',\n",
       " 'agricultural_drought_rel_norm',\n",
       " 'drought_sma_abs_norm',\n",
       " 'drought_sma_rel_norm',\n",
       " 'drought_spi_abs_norm',\n",
       " 'drought_spi_rel_norm',\n",
       " 'heatwave_frequency_abs_norm',\n",
       " 'heatwave_frequency_rel_norm',\n",
       " 'heatwave_duration_abs_norm',\n",
       " 'heatwave_duration_rel_norm',\n",
       " 'heatwave_severity_abs_norm',\n",
       " 'heatwave_severity_rel_norm',\n",
       " 'extreme_heat_abs_norm',\n",
       " 'extreme_heat_rel_norm',\n",
       " 'fire_FRP_abs_norm',\n",
       " 'fire_FRP_rel_norm',\n",
       " 'fire_frequency_abs_norm',\n",
       " 'fire_frequency_rel_norm',\n",
       " 'sand_dust_abs_norm',\n",
       " 'sand_dust_rel_norm',\n",
       " 'air_pollution_abs_norm',\n",
       " 'air_pollution_rel_norm',\n",
       " 'vectorborne_malariapv_abs_norm',\n",
       " 'vectorborne_malariapv_rel_norm',\n",
       " 'vectorborne_malariapf_abs_norm',\n",
       " 'vectorborne_malariapf_rel_norm',\n",
       " 'P2_WASH_Drinking_Water_value_norm',\n",
       " 'P2_WASH_Sanitation_value_norm',\n",
       " 'P2_LSCED_value_norm',\n",
       " 'P2_Nutrition_Stunting_Modeled_value_norm',\n",
       " 'P2_Child_Mortality_value_norm',\n",
       " 'P2_Immunization_DTP1_value_norm',\n",
       " 'P2_Immunization_DTP3_value_norm',\n",
       " 'P2_PT_Labor_value_norm',\n",
       " 'P2_Learning_Poverty_value_norm',\n",
       " 'P2_ED_CR_L2_value_norm',\n",
       " 'P2_Birth_Attendant_Y15T19_value_norm',\n",
       " 'P2_Child_poverty_value_norm',\n",
       " 'P2_Child_Marriage_value_norm',\n",
       " 'P2_food_poverty_value_norm',\n",
       " 'P2_Social_Protection_value_norm',\n",
       " 'P2_basic_hygiene_value_norm',\n",
       " 'P2_electricity_access_value_norm',\n",
       " 'P2_arithmetic_avg',\n",
       " 'P1_geometric_avg',\n",
       " 'ccri',\n",
       " 'rank_reverse',\n",
       " 'wb_income',\n",
       " 'unicef_ro',\n",
       " 'adm_name',\n",
       " 'u18_pop',\n",
       " 'ucode',\n",
       " 'uuid',\n",
       " 'geometry',\n",
       " 'type',\n",
       " 'adm0_id',\n",
       " 'hazard',\n",
       " 'drought_sma_abs',\n",
       " 'total_pop',\n",
       " 'drought_sma_rel',\n",
       " 'agricultural_drought_abs',\n",
       " 'agricultural_drought_rel',\n",
       " 'heatwave_severity_abs',\n",
       " 'heatwave_severity_rel',\n",
       " 'coastal_flood_abs',\n",
       " 'coastal_flood_rel',\n",
       " 'river_flood_abs',\n",
       " 'river_flood_rel',\n",
       " 'fire_FRP_abs',\n",
       " 'fire_FRP_rel',\n",
       " 'heatwave_frequency_abs',\n",
       " 'heatwave_frequency_rel',\n",
       " 'vectorborne_malariapv_abs',\n",
       " 'vectorborne_malariapv_rel',\n",
       " 'air_pollution_abs',\n",
       " 'air_pollution_rel',\n",
       " 'tropical_storm_abs',\n",
       " 'tropical_storm_rel',\n",
       " 'extreme_heat_abs',\n",
       " 'extreme_heat_rel',\n",
       " 'drought_spi_abs',\n",
       " 'drought_spi_rel',\n",
       " 'vectorborne_malariapf_abs',\n",
       " 'vectorborne_malariapf_rel',\n",
       " 'sand_dust_abs',\n",
       " 'sand_dust_rel',\n",
       " 'heatwave_duration_abs',\n",
       " 'heatwave_duration_rel',\n",
       " 'fire_frequency_abs',\n",
       " 'fire_frequency_rel',\n",
       " 'P2_Nutrition_Stunting_Modeled',\n",
       " 'P2_Immunization_DTP3',\n",
       " 'P2_Immunization_DTP1',\n",
       " 'P2_Under5_Mortality',\n",
       " 'P2_electricity_access',\n",
       " 'P2_food_poverty',\n",
       " 'P2_PT_Labor',\n",
       " 'P2_Child_Marriage',\n",
       " 'P2_Social_Protection',\n",
       " 'P2_Birth_Attendant_Y15T19',\n",
       " 'P2_Child_poverty',\n",
       " 'P2_ED_CR_L2',\n",
       " 'P2_Learning_Poverty',\n",
       " 'P2_WASH_Sanitation',\n",
       " 'P2_LSCED',\n",
       " 'P2_WASH_Drinking_Water',\n",
       " 'P2_basic_hygiene',\n",
       " 'fragile',\n",
       " 'iso3_x',\n",
       " 'P1_rfl',\n",
       " 'P1_cfl',\n",
       " 'P1_ts',\n",
       " 'P1_dr',\n",
       " 'P1_hw',\n",
       " 'P1_fr',\n",
       " 'P1_sds',\n",
       " 'P1_pm25',\n",
       " 'P1_mal',\n",
       " 'iso3_y',\n",
       " 'P2_hea',\n",
       " 'P2_nut',\n",
       " 'wash',\n",
       " 'P2_edu',\n",
       " 'P2_pro',\n",
       " 'P2_pov',\n",
       " 'P2_sur']"
      ]
     },
     "execution_count": 191,
     "metadata": {},
     "output_type": "execute_result"
    }
   ],
   "source": [
    "list(df_combined.columns)"
   ]
  },
  {
   "cell_type": "code",
   "execution_count": 192,
   "id": "1b0bd036-5360-43e9-9648-9cc1297ec412",
   "metadata": {},
   "outputs": [],
   "source": [
    "# Renaming the hazards\n",
    "# P1 hazards\n",
    "df_combined.columns = [col.replace('river_flood', 'rfl') if 'river_flood' in col else col for col in df_combined.columns]\n",
    "df_combined.columns = [col.replace('coastal_flood', 'cfl') if 'coastal_flood' in col else col for col in df_combined.columns]\n",
    "df_combined.columns = [col.replace('tropical_storm', 'ts') if 'tropical_storm' in col else col for col in df_combined.columns]\n",
    "df_combined.columns = [col.replace('agricultural_drought', 'agdr') if 'agricultural_drought' in col else col for col in df_combined.columns]\n",
    "df_combined.columns = [col.replace('drought_sma', 'metdr_sma') if 'drought_sma' in col else col for col in df_combined.columns]\n",
    "df_combined.columns = [col.replace('drought_spi', 'metdr_spi') if 'drought_spi' in col else col for col in df_combined.columns]\n",
    "df_combined.columns = [col.replace('heatwave_frequency', 'hw_fre') if 'heatwave_frequency' in col else col for col in df_combined.columns]\n",
    "df_combined.columns = [col.replace('heatwave_severity', 'hw_sev') if 'heatwave_severity' in col else col for col in df_combined.columns]\n",
    "df_combined.columns = [col.replace('heatwave_duration', 'hw_dur') if 'heatwave_duration' in col else col for col in df_combined.columns]\n",
    "df_combined.columns = [col.replace('extreme_heat', 'ext') if 'extreme_heat' in col else col for col in df_combined.columns]\n",
    "df_combined.columns = [col.replace('fire_frequency', 'fr_fre') if 'fire_frequency' in col else col for col in df_combined.columns]\n",
    "df_combined.columns = [col.replace('fire_FRP', 'fr_int') if 'fire_FRP' in col else col for col in df_combined.columns]\n",
    "df_combined.columns = [col.replace('sand_dust', 'sds') if 'sand_dust' in col else col for col in df_combined.columns]\n",
    "df_combined.columns = [col.replace('vectorborne_malariapv', 'mal_pv') if 'vectorborne_malariapv' in col else col for col in df_combined.columns]\n",
    "df_combined.columns = [col.replace('vectorborne_malariapf', 'mal_pf') if 'vectorborne_malariapf' in col else col for col in df_combined.columns]\n",
    "df_combined.columns = [col.replace('air_pollution', 'pm25') if 'air_pollution' in col else col for col in df_combined.columns]\n",
    "\n",
    "# P2 hazards\n",
    "df_combined.columns = [col.replace('P2_Immunization_DTP1', 'hea_dtp1') if 'P2_Immunization_DTP1' in col else col for col in df_combined.columns]\n",
    "df_combined.columns = [col.replace('P2_Immunization_DTP3', 'hea_dtp3') if 'P2_Immunization_DTP3' in col else col for col in df_combined.columns]\n",
    "df_combined.columns = [col.replace('P2_Birth_Attendant_Y15T19', 'hea_skat') if 'P2_Birth_Attendant_Y15T19' in col else col for col in df_combined.columns]\n",
    "df_combined.columns = [col.replace('P2_electricity_access', 'hea_elec') if 'P2_electricity_access' in col else col for col in df_combined.columns]\n",
    "df_combined.columns = [col.replace('P2_Nutrition_Stunting_Modeled', 'nut_stu') if 'P2_Nutrition_Stunting_Modeled' in col else col for col in df_combined.columns]\n",
    "df_combined.columns = [col.replace('P2_food_poverty', 'nut_fpov') if 'P2_food_poverty' in col else col for col in df_combined.columns]\n",
    "df_combined.columns = [col.replace('P2_WASH_Drinking_Water', 'wash_wat') if 'P2_WASH_Drinking_Water' in col else col for col in df_combined.columns]\n",
    "df_combined.columns = [col.replace('P2_WASH_Drinking_Sanitation', 'wash_san') if 'P2_WASH_Drinking_Sanitation' in col else col for col in df_combined.columns]\n",
    "df_combined.columns = [col.replace('P2_WASH_Sanitation', 'wash_san') if 'P2_WASH_Sanitation' in col else col for col in df_combined.columns]\n",
    "df_combined.columns = [col.replace('P2_basic_hygiene', 'wash_hyg') if 'P2_basic_hygiene' in col else col for col in df_combined.columns]\n",
    "df_combined.columns = [col.replace('P2_LSCED', 'edu_lsos') if 'P2_LSCED' in col else col for col in df_combined.columns]\n",
    "df_combined.columns = [col.replace('P2_ED_CR_L2', 'edu_lscr') if 'P2_ED_CR_L2' in col else col for col in df_combined.columns]\n",
    "df_combined.columns = [col.replace('P2_Learning_Poverty', 'edu_lpov') if 'P2_Learning_Poverty' in col else col for col in df_combined.columns]\n",
    "df_combined.columns = [col.replace('P2_PT_Labor', 'pro_lab') if 'P2_PT_Labor' in col else col for col in df_combined.columns]\n",
    "df_combined.columns = [col.replace('P2_Child_Marriage', 'pro_mar') if 'P2_Child_Marriage' in col else col for col in df_combined.columns]\n",
    "df_combined.columns = [col.replace('P2_Child_poverty', 'prov_md') if 'P2_Child_poverty' in col else col for col in df_combined.columns]\n",
    "df_combined.columns = [col.replace('P2_Social_Protection', 'prov_u5sp') if 'P2_Social_Protection' in col else col for col in df_combined.columns]\n",
    "df_combined.columns = [col.replace('P2_Under5_Mortality', 'sur_u5mor') if 'P2_Under5_Mortality' in col else col for col in df_combined.columns]"
   ]
  },
  {
   "cell_type": "code",
   "execution_count": 193,
   "id": "f67fdf93-07c5-4b5d-b4a6-264bfdeac97f",
   "metadata": {},
   "outputs": [],
   "source": [
    "df_combined.columns = [col.replace('value_norm', 'norm') if 'value_norm' in col else col for col in df_combined.columns]"
   ]
  },
  {
   "cell_type": "code",
   "execution_count": 194,
   "id": "ffe7ccd5-55ff-498f-beba-567c499d123f",
   "metadata": {},
   "outputs": [
    {
     "data": {
      "text/plain": [
       "['iso3',\n",
       " 'rfl_abs_norm',\n",
       " 'rfl_rel_norm',\n",
       " 'cfl_abs_norm',\n",
       " 'cfl_rel_norm',\n",
       " 'ts_abs_norm',\n",
       " 'ts_rel_norm',\n",
       " 'agdr_abs_norm',\n",
       " 'agdr_rel_norm',\n",
       " 'metdr_sma_abs_norm',\n",
       " 'metdr_sma_rel_norm',\n",
       " 'metdr_spi_abs_norm',\n",
       " 'metdr_spi_rel_norm',\n",
       " 'hw_fre_abs_norm',\n",
       " 'hw_fre_rel_norm',\n",
       " 'hw_dur_abs_norm',\n",
       " 'hw_dur_rel_norm',\n",
       " 'hw_sev_abs_norm',\n",
       " 'hw_sev_rel_norm',\n",
       " 'ext_abs_norm',\n",
       " 'ext_rel_norm',\n",
       " 'fr_int_abs_norm',\n",
       " 'fr_int_rel_norm',\n",
       " 'fr_fre_abs_norm',\n",
       " 'fr_fre_rel_norm',\n",
       " 'sds_abs_norm',\n",
       " 'sds_rel_norm',\n",
       " 'pm25_abs_norm',\n",
       " 'pm25_rel_norm',\n",
       " 'mal_pv_abs_norm',\n",
       " 'mal_pv_rel_norm',\n",
       " 'mal_pf_abs_norm',\n",
       " 'mal_pf_rel_norm',\n",
       " 'wash_wat_norm',\n",
       " 'wash_san_norm',\n",
       " 'edu_lsos_norm',\n",
       " 'nut_stu_norm',\n",
       " 'P2_Child_Mortality_norm',\n",
       " 'hea_dtp1_norm',\n",
       " 'hea_dtp3_norm',\n",
       " 'pro_lab_norm',\n",
       " 'edu_lpov_norm',\n",
       " 'edu_lscr_norm',\n",
       " 'hea_skat_norm',\n",
       " 'prov_md_norm',\n",
       " 'pro_mar_norm',\n",
       " 'nut_fpov_norm',\n",
       " 'prov_u5sp_norm',\n",
       " 'wash_hyg_norm',\n",
       " 'hea_elec_norm',\n",
       " 'P2_arithmetic_avg',\n",
       " 'P1_geometric_avg',\n",
       " 'ccri',\n",
       " 'rank_reverse',\n",
       " 'wb_income',\n",
       " 'unicef_ro',\n",
       " 'adm_name',\n",
       " 'u18_pop',\n",
       " 'ucode',\n",
       " 'uuid',\n",
       " 'geometry',\n",
       " 'type',\n",
       " 'adm0_id',\n",
       " 'hazard',\n",
       " 'metdr_sma_abs',\n",
       " 'total_pop',\n",
       " 'metdr_sma_rel',\n",
       " 'agdr_abs',\n",
       " 'agdr_rel',\n",
       " 'hw_sev_abs',\n",
       " 'hw_sev_rel',\n",
       " 'cfl_abs',\n",
       " 'cfl_rel',\n",
       " 'rfl_abs',\n",
       " 'rfl_rel',\n",
       " 'fr_int_abs',\n",
       " 'fr_int_rel',\n",
       " 'hw_fre_abs',\n",
       " 'hw_fre_rel',\n",
       " 'mal_pv_abs',\n",
       " 'mal_pv_rel',\n",
       " 'pm25_abs',\n",
       " 'pm25_rel',\n",
       " 'ts_abs',\n",
       " 'ts_rel',\n",
       " 'ext_abs',\n",
       " 'ext_rel',\n",
       " 'metdr_spi_abs',\n",
       " 'metdr_spi_rel',\n",
       " 'mal_pf_abs',\n",
       " 'mal_pf_rel',\n",
       " 'sds_abs',\n",
       " 'sds_rel',\n",
       " 'hw_dur_abs',\n",
       " 'hw_dur_rel',\n",
       " 'fr_fre_abs',\n",
       " 'fr_fre_rel',\n",
       " 'nut_stu',\n",
       " 'hea_dtp3',\n",
       " 'hea_dtp1',\n",
       " 'sur_u5mor',\n",
       " 'hea_elec',\n",
       " 'nut_fpov',\n",
       " 'pro_lab',\n",
       " 'pro_mar',\n",
       " 'prov_u5sp',\n",
       " 'hea_skat',\n",
       " 'prov_md',\n",
       " 'edu_lscr',\n",
       " 'edu_lpov',\n",
       " 'wash_san',\n",
       " 'edu_lsos',\n",
       " 'wash_wat',\n",
       " 'wash_hyg',\n",
       " 'fragile',\n",
       " 'iso3_x',\n",
       " 'P1_rfl',\n",
       " 'P1_cfl',\n",
       " 'P1_ts',\n",
       " 'P1_dr',\n",
       " 'P1_hw',\n",
       " 'P1_fr',\n",
       " 'P1_sds',\n",
       " 'P1_pm25',\n",
       " 'P1_mal',\n",
       " 'iso3_y',\n",
       " 'P2_hea',\n",
       " 'P2_nut',\n",
       " 'wash',\n",
       " 'P2_edu',\n",
       " 'P2_pro',\n",
       " 'P2_pov',\n",
       " 'P2_sur']"
      ]
     },
     "execution_count": 194,
     "metadata": {},
     "output_type": "execute_result"
    }
   ],
   "source": [
    "list(df_combined.columns)"
   ]
  },
  {
   "cell_type": "code",
   "execution_count": 195,
   "id": "637b27f5-a46f-49b2-98c5-2de8e8b2e1c9",
   "metadata": {},
   "outputs": [],
   "source": [
    "df_combined = df_combined[[\n",
    "    'iso3',\n",
    "    'adm_name',\n",
    "    'total_pop',\n",
    "    'u18_pop',\n",
    "    'wb_income',\n",
    "    'unicef_ro',\n",
    "    'ucode',\n",
    "    'uuid',\n",
    "    'geometry',\n",
    "    'type',\n",
    "    'fragile','rfl_abs',\n",
    " 'rfl_rel','rfl_abs_norm',\n",
    " 'rfl_rel_norm','cfl_abs',\n",
    " 'cfl_rel','cfl_abs_norm',\n",
    " 'cfl_rel_norm','ts_abs',\n",
    " 'ts_rel','ts_abs_norm',\n",
    " 'ts_rel_norm','agdr_abs',\n",
    " 'agdr_rel','agdr_abs_norm',\n",
    " 'agdr_rel_norm','metdr_sma_abs',\n",
    " 'metdr_sma_rel','metdr_sma_abs_norm',\n",
    " 'metdr_sma_rel_norm','metdr_spi_abs',\n",
    " 'metdr_spi_rel','metdr_spi_abs_norm',\n",
    " 'metdr_spi_rel_norm','hw_fre_abs',\n",
    " 'hw_fre_rel','hw_fre_abs_norm',\n",
    " 'hw_fre_rel_norm','hw_dur_abs',\n",
    " 'hw_dur_rel','hw_dur_abs_norm',\n",
    " 'hw_dur_rel_norm','hw_sev_abs',\n",
    " 'hw_sev_rel','hw_sev_abs_norm',\n",
    " 'hw_sev_rel_norm','ext_abs',\n",
    " 'ext_rel','ext_abs_norm',\n",
    " 'ext_rel_norm','fr_fre_abs',\n",
    " 'fr_fre_rel','fr_fre_abs_norm',\n",
    " 'fr_fre_rel_norm','fr_int_abs',\n",
    " 'fr_int_rel','fr_int_abs_norm',\n",
    " 'fr_int_rel_norm','sds_abs',\n",
    " 'sds_rel','sds_abs_norm',\n",
    " 'sds_rel_norm','pm25_abs',\n",
    " 'pm25_rel','pm25_abs_norm',\n",
    " 'pm25_rel_norm','mal_pv_abs',\n",
    " 'mal_pv_rel','mal_pv_abs_norm',\n",
    " 'mal_pv_rel_norm','mal_pf_abs',\n",
    " 'mal_pf_rel','mal_pf_abs_norm',\n",
    " 'mal_pf_rel_norm','hea_dtp1','hea_dtp1_norm', 'hea_dtp3','hea_dtp3_norm','hea_skat','hea_skat_norm',\n",
    "'hea_elec','hea_elec_norm','nut_stu','nut_stu_norm','nut_fpov','nut_fpov_norm','wash_wat',\n",
    "    'wash_wat_norm','wash_san','wash_san_norm','wash_hyg','wash_hyg_norm','edu_lsos','edu_lsos_norm',\n",
    "    'edu_lscr','edu_lscr_norm','edu_lpov','edu_lpov_norm','pro_lab','pro_lab_norm','pro_mar',\n",
    "    'pro_mar_norm','prov_md','prov_md_norm','prov_u5sp','prov_u5sp_norm','sur_u5mor',\n",
    "    'P1_rfl', 'P1_cfl', 'P1_ts', 'P1_dr', 'P1_hw', 'P1_fr', 'P1_sds', 'P1_pm25', 'P1_mal',\n",
    "    'P2_hea', 'P2_nut', 'P2_edu', 'P2_pro', 'P2_pov', 'P2_sur','P1_geometric_avg','P2_arithmetic_avg',\n",
    "'ccri']]"
   ]
  },
  {
   "cell_type": "code",
   "execution_count": 196,
   "id": "88873919-89a2-473f-bce8-c3c72e1f83fc",
   "metadata": {},
   "outputs": [],
   "source": [
    "# int vals that are abs \n",
    "for col in df_combined.columns:\n",
    "    if 'abs' in col and 'norm' not in col:\n",
    "        df_combined[col] = df_combined[col].astype(int)"
   ]
  },
  {
   "cell_type": "code",
   "execution_count": 197,
   "id": "c779c405-1660-4408-aafd-8abab892c414",
   "metadata": {},
   "outputs": [],
   "source": [
    "# Adding in component column, first let's make a dictionary\n",
    "component_dict = {\n",
    "    'Riverine Floods': ['rfl'],\n",
    "    'Coastal Floods': ['cfl'],\n",
    "    'Tropical Storms': ['ts'],\n",
    "    'Droughts': ['agdr', 'metdr'],\n",
    "    'Heatwave': ['hw'],\n",
    "    'Extreme Heat': ['ext'],\n",
    "    'Fire': ['fr'],\n",
    "    'Sand and Dust Storm': ['sds'],\n",
    "    'Air pollution': ['pm25'],\n",
    "    'Vector Borne Diseases': ['mal'],\n",
    "    'Health': ['hea'],\n",
    "    'Nutrition': ['nut'],\n",
    "    'WASH': ['wash'],\n",
    "    'Education': ['edu'],\n",
    "    'Protection': ['pro'],\n",
    "    'Poverty': ['pov'],\n",
    "    'Child Survival': ['sur']\n",
    "}"
   ]
  },
  {
   "cell_type": "code",
   "execution_count": 198,
   "id": "525ad872-b3bb-4f03-b85c-93384aa64c78",
   "metadata": {},
   "outputs": [],
   "source": [
    "gdf = gpd.GeoDataFrame(df_combined, geometry=df_combined['geometry'], crs='EPSG:4326')"
   ]
  },
  {
   "cell_type": "code",
   "execution_count": 200,
   "id": "659f36b3-075f-42d1-b0d8-607a7ba760c5",
   "metadata": {},
   "outputs": [],
   "source": [
    "gdf.to_file('{}/CCRI_P1_P2_format_10042025.geojson'.format(data_dir))"
   ]
  },
  {
   "cell_type": "code",
   "execution_count": null,
   "id": "2d64cb9c-9698-4edf-aeec-86b85b0fabc7",
   "metadata": {},
   "outputs": [],
   "source": []
  }
 ],
 "metadata": {
  "kernelspec": {
   "display_name": "Python 3 (ipykernel)",
   "language": "python",
   "name": "python3"
  },
  "language_info": {
   "codemirror_mode": {
    "name": "ipython",
    "version": 3
   },
   "file_extension": ".py",
   "mimetype": "text/x-python",
   "name": "python",
   "nbconvert_exporter": "python",
   "pygments_lexer": "ipython3",
   "version": "3.10.14"
  }
 },
 "nbformat": 4,
 "nbformat_minor": 5
}
