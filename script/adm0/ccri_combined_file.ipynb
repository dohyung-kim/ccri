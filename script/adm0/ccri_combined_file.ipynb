{
  "cells": [
    {
      "cell_type": "code",
      "execution_count": 306,
      "id": "e545bc78-8937-47f2-bf19-134cf0f6b019",
      "metadata": {
        "id": "e545bc78-8937-47f2-bf19-134cf0f6b019"
      },
      "outputs": [],
      "source": [
        "# Combine all data from P1, P2 into final CCRI layer"
      ]
    },
    {
      "cell_type": "code",
      "execution_count": 307,
      "id": "a89a2d11-ec1d-408f-ab0b-9d05fd472cd3",
      "metadata": {
        "id": "a89a2d11-ec1d-408f-ab0b-9d05fd472cd3"
      },
      "outputs": [],
      "source": [
        "import os\n",
        "import pandas as pd\n",
        "import geopandas as gpd\n",
        "import glob\n",
        "import numpy as np"
      ]
    },
    {
      "cell_type": "code",
      "execution_count": 308,
      "id": "e23f2052-6c10-42fc-ae54-96667be10c49",
      "metadata": {
        "colab": {
          "base_uri": "https://localhost:8080/"
        },
        "id": "e23f2052-6c10-42fc-ae54-96667be10c49",
        "outputId": "86f2bc3c-1d2b-42d4-eb1e-ff9ef8321fc4"
      },
      "outputs": [
        {
          "output_type": "stream",
          "name": "stdout",
          "text": [
            "/content/drive/MyDrive/CCRI/ccri_repo/data\n"
          ]
        }
      ],
      "source": [
        "# Query data dir (avoiding hard-coding paths when working between users)\n",
        "#/content/drive/MyDrive/CCRI/ccri_repo/data\n",
        "data_dir = '/content/drive/MyDrive/CCRI/ccri_repo/data'\n",
        "print(data_dir)"
      ]
    },
    {
      "cell_type": "code",
      "execution_count": 309,
      "id": "8237e488-357b-4802-a06d-e719979710d7",
      "metadata": {
        "colab": {
          "base_uri": "https://localhost:8080/",
          "height": 35
        },
        "id": "8237e488-357b-4802-a06d-e719979710d7",
        "outputId": "0f0fc2b0-f909-40d1-b563-80022f138563"
      },
      "outputs": [
        {
          "output_type": "execute_result",
          "data": {
            "text/plain": [
              "'/content/drive/MyDrive/CCRI/ccri_repo/data'"
            ],
            "application/vnd.google.colaboratory.intrinsic+json": {
              "type": "string"
            }
          },
          "metadata": {},
          "execution_count": 309
        }
      ],
      "source": [
        "# Check that data dir was input correctly\n",
        "data_dir"
      ]
    },
    {
      "cell_type": "code",
      "execution_count": 310,
      "id": "d5a68690-496e-4e6a-b9c4-27bc2dfe356a",
      "metadata": {
        "id": "d5a68690-496e-4e6a-b9c4-27bc2dfe356a"
      },
      "outputs": [],
      "source": [
        "# Read in all the data we need\n",
        "# -- exposure files\n",
        "p1_exposure_file = pd.read_csv('{}/CCRI_results_misc/Merged_Exposure_Data.csv'.format(data_dir))\n",
        "p2_exposure_file = pd.read_csv('{}/CCRI_results_misc/P2_Merged_Normalized_avg.csv'.format(data_dir))\n",
        "p1p2_scores = pd.read_csv('{}/CCRI_results_misc/p1_p2_avg_ccri.csv'.format(data_dir))\n",
        "\n",
        "# -- attribute files\n",
        "wb_income = pd.read_csv('{}/misc/WB_INCOME.csv'.format(data_dir))\n",
        "unicef_ro = pd.read_csv('{}/misc/UNICEF_PROG_REG_GLOBAL.csv'.format(data_dir))\n",
        "\n",
        "# -- population files\n",
        "childpop = pd.read_csv('{}/CCRI_results_misc/child_pop_sum_adm0.csv'.format(data_dir))\n",
        "#worldpop = pd.read_csv('{}/Misc/World_Population_ByAOI_adm0.csv'.format(data_dir))\n",
        "\n",
        "# -- boundary file\n",
        "adm0 = gpd.read_file('{}/misc/adm0_boundaries_simple.geojson'.format(data_dir))\n",
        "\n",
        "# -- fragile codes\n",
        "fragile = pd.read_csv('{}/misc/List of fragile context (2025).csv'.format(data_dir))\n",
        "\n",
        "# -- component vals\n",
        "p1_components = pd.read_csv('{}/CCRI_results_misc/p1_group_mean.csv'.format(data_dir))\n",
        "p2_components = pd.read_csv('{}/CCRI_results_misc/p2_group_mean.csv'.format(data_dir))"
      ]
    },
    {
      "cell_type": "code",
      "execution_count": 311,
      "id": "3255d8f1-4b09-4d4f-8c52-d8444259c8c4",
      "metadata": {
        "id": "3255d8f1-4b09-4d4f-8c52-d8444259c8c4"
      },
      "outputs": [],
      "source": [
        "# Renaming some columns\n",
        "p1_exposure_file.columns = [col.replace('_absolute', '_abs_norm') if '_absolute' in col else col for col in p1_exposure_file.columns]\n",
        "p1_exposure_file.columns = [col.replace('_relative', '_rel_norm') if '_relative' in col else col for col in p1_exposure_file.columns]"
      ]
    },
    {
      "cell_type": "code",
      "execution_count": 312,
      "id": "0485516a-c472-479c-b8f8-4365140643b8",
      "metadata": {
        "id": "0485516a-c472-479c-b8f8-4365140643b8"
      },
      "outputs": [],
      "source": [
        "# Merge P exposures by ISO3\n",
        "merged_P = (p1_exposure_file.merge(p2_exposure_file, on='iso3', how='left'))\n",
        "all_P = (merged_P.merge(p1p2_scores, on='iso3', how='left'))"
      ]
    },
    {
      "cell_type": "code",
      "execution_count": 313,
      "id": "5446dbed-34d0-4263-bf29-da1030b436d1",
      "metadata": {
        "id": "5446dbed-34d0-4263-bf29-da1030b436d1"
      },
      "outputs": [],
      "source": [
        "all_P = all_P.drop(columns=['P2_arithmetic_avg_y', 'rank_reverse_x'])\n",
        "all_P = all_P.rename(columns={'P2_arithmetic_avg_x': 'P2_arithmetic_avg', 'rank_reverse_y': 'rank_reverse'})"
      ]
    },
    {
      "cell_type": "code",
      "execution_count": 314,
      "id": "83c8d742-3a25-427c-8706-229fcc830b52",
      "metadata": {
        "id": "83c8d742-3a25-427c-8706-229fcc830b52"
      },
      "outputs": [],
      "source": [
        "# Add WB income\n",
        "wb_income = wb_income[['Region_Code', 'ISO3Code']]\n",
        "df = (all_P.merge(wb_income, left_on='iso3', right_on='ISO3Code', how='left').drop('ISO3Code', axis=1).rename(columns={'Region_Code': 'wb_income'}))"
      ]
    },
    {
      "cell_type": "code",
      "execution_count": 315,
      "id": "d9b3075f-8896-4b1c-b2bf-980fd61381f6",
      "metadata": {
        "id": "d9b3075f-8896-4b1c-b2bf-980fd61381f6"
      },
      "outputs": [],
      "source": [
        "# Add Regional Office\n",
        "unicef_ro = unicef_ro[['Region_Code','ISO3Code']]\n",
        "df = (df.merge(unicef_ro, left_on='iso3', right_on='ISO3Code', how='left').drop('ISO3Code', axis=1).rename(columns={'Region_Code': 'unicef_ro'}))"
      ]
    },
    {
      "cell_type": "code",
      "execution_count": 316,
      "id": "139c5c0e-8205-4a5b-b025-90bf52901682",
      "metadata": {
        "id": "139c5c0e-8205-4a5b-b025-90bf52901682"
      },
      "outputs": [],
      "source": [
        "# Add population data\n",
        "# -- Take the childpop data from the geojson of p1p2 avg\n",
        "gdf = gpd.read_file('{}/CCRI_results_misc/p1_p2_avg_ccri.geojson'.format(data_dir))\n",
        "df_grouped = gdf[['ISO3', 'child_population_total', 'population_total']].groupby('ISO3', as_index=False).mean()\n",
        "df_w_childpop = (df.merge(df_grouped, left_on=['iso3'], right_on=['ISO3'], how='left').rename(columns={'child_population_total': 'u18_pop'})).drop(columns=['ISO3'])\n",
        "\n",
        "#df_w_childpop = (df.merge(childpop, left_on='iso3', right_on='ISO3', how='left').rename(columns={'child_population': 'u18_pop'})).drop(columns=['child_population_gpw'])\n",
        "#df_w_childpop['u18_pop'] = df_w_childpop['u18_pop'].astype(int)"
      ]
    },
    {
      "cell_type": "code",
      "execution_count": 317,
      "id": "e5c0f699-e70a-430f-8b2e-8fda06dd8d9c",
      "metadata": {
        "id": "e5c0f699-e70a-430f-8b2e-8fda06dd8d9c"
      },
      "outputs": [],
      "source": [
        "df_w_childpop = df_w_childpop.rename(columns={'iso3':'ISO3'})"
      ]
    },
    {
      "cell_type": "code",
      "execution_count": 318,
      "id": "54d2fcb8-8f11-47f5-86ca-9cc884b47821",
      "metadata": {
        "colab": {
          "base_uri": "https://localhost:8080/",
          "height": 70
        },
        "id": "54d2fcb8-8f11-47f5-86ca-9cc884b47821",
        "outputId": "035bd6c9-6396-4afc-dc67-f909d58c44ca"
      },
      "outputs": [
        {
          "output_type": "execute_result",
          "data": {
            "text/plain": [
              "\"\\n# Using World_Population_ByAOI_adm0.csv file -> removing for now to use the population data from the exposure files to keep consistent\\ndf_w_allpop = (df_w_childpop.merge(worldpop, left_on='name', right_on='adm0_name', how='left').rename(columns={'sum': 'total_pop'})).drop(columns=['iso3','adm0_name'])\\n\\n# Set population data as integer\\ndf_w_allpop['u18_pop'] = df_w_allpop['u18_pop'].astype(int)\\ndf_w_allpop['total_pop'] = df_w_allpop['total_pop'].astype(int)\\n\""
            ],
            "application/vnd.google.colaboratory.intrinsic+json": {
              "type": "string"
            }
          },
          "metadata": {},
          "execution_count": 318
        }
      ],
      "source": [
        "'''\n",
        "# Using World_Population_ByAOI_adm0.csv file -> removing for now to use the population data from the exposure files to keep consistent\n",
        "df_w_allpop = (df_w_childpop.merge(worldpop, left_on='name', right_on='adm0_name', how='left').rename(columns={'sum': 'total_pop'})).drop(columns=['iso3','adm0_name'])\n",
        "\n",
        "# Set population data as integer\n",
        "df_w_allpop['u18_pop'] = df_w_allpop['u18_pop'].astype(int)\n",
        "df_w_allpop['total_pop'] = df_w_allpop['total_pop'].astype(int)\n",
        "'''"
      ]
    },
    {
      "cell_type": "code",
      "execution_count": 319,
      "id": "e7724021-7d7b-48b7-acd6-06b4805bf31c",
      "metadata": {
        "id": "e7724021-7d7b-48b7-acd6-06b4805bf31c"
      },
      "outputs": [],
      "source": [
        "# Using simplified boundaries for geometry\n",
        "adm0 = adm0[['ISO3', 'name', 'ucode','uuid','geometry','type']]\n",
        "df_combined = (df_w_childpop.merge(adm0, left_on=['ISO3', 'adm0_name'], right_on=['ISO3', 'name'], how='left'))"
      ]
    },
    {
      "cell_type": "code",
      "execution_count": 320,
      "id": "08ca57b1-0369-42e9-a4b6-6860cfe2dfc3",
      "metadata": {
        "id": "08ca57b1-0369-42e9-a4b6-6860cfe2dfc3"
      },
      "outputs": [],
      "source": [
        "# Grabbing actual exposure numbers\n",
        "# Define file paths\n",
        "exposure_path = \"{}/p1_exposure\".format(data_dir)\n",
        "\n",
        "# Get all CSV files for exposure\n",
        "exposure_files = glob.glob(os.path.join(exposure_path, \"*.csv\"))\n",
        "\n",
        "# Initialize empty list for processed data\n",
        "exposure_data_list = []\n",
        "\n",
        "### **Process Each File in One Loop**\n",
        "for file in exposure_files:\n",
        "    df = pd.read_csv(file)  # Read full file to check available columns\n",
        "    filename_only = os.path.basename(file)\n",
        "    hazard_name = '_'.join(filename_only.split('_')[:2])  # Extract hazard name\n",
        "\n",
        "    # Ensure required columns exist\n",
        "    required_cols = {'iso3', 'adm0_name', 'child_population_exposed'}\n",
        "    if not required_cols.issubset(df.columns):\n",
        "        print(f\"Skipping {file}: Missing columns {required_cols - set(df.columns)}\")\n",
        "        continue  # Skip if required columns are missing\n",
        "\n",
        "    df.dropna(subset=['child_population_exposed'], inplace=True)\n",
        "\n",
        "    # Compute relative exposure (%)\n",
        "    df['{}_rel'.format(hazard_name)] = np.where(\n",
        "        (df['child_population_total'] > 0) & (~df['child_population_total'].isna()),\n",
        "        (df['child_population_exposed'] / df['child_population_total']) * 100,\n",
        "        0\n",
        "    )\n",
        "\n",
        "    # Rename to hazard\n",
        "    df = df.rename(columns={'child_population_exposed': '{}_abs'.format(hazard_name)})\n",
        "    df = df.drop(columns=['child_population_total', 'population_total'])\n",
        "\n",
        "    exposure_data_list.append(df)"
      ]
    },
    {
      "cell_type": "code",
      "execution_count": 321,
      "id": "5bb173da-2e50-4675-9df8-26908f7d6ff7",
      "metadata": {
        "id": "5bb173da-2e50-4675-9df8-26908f7d6ff7"
      },
      "outputs": [],
      "source": [
        "merged_exposure_df = pd.concat(exposure_data_list, axis=1).drop_duplicates(subset=['iso3', 'adm0_name'])\n",
        "# Ensure no duplicate columns before merging\n",
        "merged_exposure_df = merged_exposure_df.loc[:, ~merged_exposure_df.columns.duplicated()]"
      ]
    },
    {
      "cell_type": "code",
      "source": [
        "merged_exposure_df = merged_exposure_df.drop(columns=['type'])"
      ],
      "metadata": {
        "id": "dKC8sD4Jpw1i"
      },
      "id": "dKC8sD4Jpw1i",
      "execution_count": 322,
      "outputs": []
    },
    {
      "cell_type": "code",
      "execution_count": 323,
      "id": "a51be2de-11e4-4319-8c72-8f2c99aa77de",
      "metadata": {
        "id": "a51be2de-11e4-4319-8c72-8f2c99aa77de"
      },
      "outputs": [],
      "source": [
        "df_combined = (df_combined.merge(merged_exposure_df, left_on=['ISO3', 'adm0_name'], right_on=['iso3', 'adm0_name'], how='left'))"
      ]
    },
    {
      "cell_type": "code",
      "execution_count": 324,
      "id": "2750b182-a38a-44ac-8476-21a60c1c716c",
      "metadata": {
        "id": "2750b182-a38a-44ac-8476-21a60c1c716c"
      },
      "outputs": [],
      "source": [
        "df_combined = df_combined.rename(columns={'population_total': 'total_pop'})"
      ]
    },
    {
      "cell_type": "code",
      "source": [],
      "metadata": {
        "id": "WZzdNgJU1rJD"
      },
      "id": "WZzdNgJU1rJD",
      "execution_count": 324,
      "outputs": []
    },
    {
      "cell_type": "code",
      "execution_count": 325,
      "id": "334e4bdb-9066-4e1a-88fa-3d88c8f138df",
      "metadata": {
        "id": "334e4bdb-9066-4e1a-88fa-3d88c8f138df"
      },
      "outputs": [],
      "source": [
        "# --- Adding P2 data\n",
        "vul_path = \"{}/p2_vulnerability\".format(data_dir)\n",
        "total_population_file = \"{}/p1_exposure/agricultural_drought_fao_1984-2023_exposure_adm0.csv\".format(data_dir)\n",
        "\n",
        "# Load total child population data\n",
        "total_pop_df = pd.read_csv(total_population_file, usecols=['iso3', 'adm0_name', 'child_population_total'])\n",
        "total_pop_df = total_pop_df.rename(columns={'iso3': 'ISO3'})\n",
        "\n",
        "# Ensure unique ISO3-name pairs before merging\n",
        "total_pop_df = total_pop_df.groupby(['ISO3', 'adm0_name'], as_index=False).agg({'child_population_total': 'mean'})\n",
        "\n",
        "# Get all CSV files for exposure\n",
        "p2_vul_files = glob.glob(os.path.join(vul_path, \"*.csv\"))\n",
        "\n",
        "# Initialize empty list for processed data\n",
        "vul_data_list = []\n",
        "\n",
        "for file in p2_vul_files:\n",
        "    df = pd.read_csv(file)  # Read full file to check available columns\n",
        "    if 'iso3' not in df.columns or 'value' not in df.columns:\n",
        "        continue  # Skip files missing required columns\n",
        "    # Normalize 'value' column\n",
        "    df = df[['iso3', 'value']].dropna()\n",
        "    df = df.rename(columns={'iso3': 'ISO3'}, errors='ignore')\n",
        "    filename_only = os.path.basename(file)\n",
        "    hazard_name = '_'.join(filename_only.split('.csv')[:1])  # Extract hazard name\n",
        "    if hazard_name == 'P2_Child_Mortality':\n",
        "        continue\n",
        "\n",
        "    # merge with population data\n",
        "    df = (df.merge(total_pop_df, on='ISO3', how='left'))\n",
        "\n",
        "    # rename to hazard and norm\n",
        "    df['{}'.format(hazard_name)] = np.where(\n",
        "        (df['child_population_total'] > 0) & (~df['child_population_total'].isna()),\n",
        "        (df['value']),\n",
        "        0\n",
        "    )\n",
        "\n",
        "    # Rename for relative\n",
        "    df = df.drop(columns=['child_population_total', 'time_period', 'data_source', 'value'], errors='ignore')\n",
        "\n",
        "    vul_data_list.append(df)"
      ]
    },
    {
      "cell_type": "code",
      "execution_count": 326,
      "id": "da6575b5-357a-434a-ab6c-798ba3812415",
      "metadata": {
        "id": "da6575b5-357a-434a-ab6c-798ba3812415"
      },
      "outputs": [],
      "source": [
        "for i in range(len(vul_data_list)):\n",
        "    df_combined = (df_combined.merge(vul_data_list[i], on=['ISO3', 'adm0_name'], how='left'))"
      ]
    },
    {
      "cell_type": "code",
      "execution_count": 327,
      "id": "c2de72f6-6d29-40b8-85c1-28db0e3682a6",
      "metadata": {
        "id": "c2de72f6-6d29-40b8-85c1-28db0e3682a6"
      },
      "outputs": [],
      "source": [
        "# Add fragile\n",
        "fragile['fragile'] = 'fragile'\n",
        "df_combined = (df_combined.merge(fragile[['ISO3','fragile']], on=['ISO3'], how='left'))"
      ]
    },
    {
      "cell_type": "code",
      "execution_count": 328,
      "id": "25dc2777-2968-4d59-a81b-bdeb5396ff4f",
      "metadata": {
        "id": "25dc2777-2968-4d59-a81b-bdeb5396ff4f"
      },
      "outputs": [],
      "source": [
        "df_combined = df_combined.drop(columns=['iso3'])"
      ]
    },
    {
      "cell_type": "code",
      "execution_count": 329,
      "id": "ff27bd37-9d70-4284-aad3-719b9c47e9d5",
      "metadata": {
        "id": "ff27bd37-9d70-4284-aad3-719b9c47e9d5"
      },
      "outputs": [],
      "source": [
        "# Add components\n",
        "# Rename\n",
        "p1_components = p1_components.rename(columns={'river_flood_gmean': 'P1_rfl', 'coastal_flood_gmean': 'P1_cfl',\n",
        "                                             'storm_gmean': 'P1_ts', 'drought_gmean': 'P1_dr', 'heat_gmean': 'P1_hw',\n",
        "                                             'fire_gmean': 'P1_fr', 'sand_dust_gmean': 'P1_sds', 'air_pollution_gmean': 'P1_pm25',\n",
        "                                             'malaria_gmean': 'P1_mal'})\n",
        "\n",
        "p2_components = p2_components.rename(columns={'health': 'P2_hea', 'nutrition': 'P2_nut', 'education': 'P2_edu',\n",
        "                                             'protection': 'P2_pro', 'poverty': 'P2_pov', 'survival': 'P2_sur'})"
      ]
    },
    {
      "cell_type": "code",
      "execution_count": 330,
      "id": "fbefcbd6-01ea-49b8-af4c-a392b0da547e",
      "metadata": {
        "id": "fbefcbd6-01ea-49b8-af4c-a392b0da547e"
      },
      "outputs": [],
      "source": [
        "df_combined = (df_combined.merge(p1_components, left_on=['ISO3', 'adm0_name'], right_on=['iso3', 'adm0_name'], how='left'))"
      ]
    },
    {
      "cell_type": "code",
      "execution_count": 331,
      "id": "d7d6ebe4-403e-40d2-8d1c-2f5b012d90a6",
      "metadata": {
        "id": "d7d6ebe4-403e-40d2-8d1c-2f5b012d90a6"
      },
      "outputs": [],
      "source": [
        "df_combined = (df_combined.merge(p2_components, left_on=['ISO3'], right_on=['iso3'], how='left'))"
      ]
    },
    {
      "cell_type": "code",
      "execution_count": 332,
      "id": "31ae7196-03be-4b79-888f-c12f169c25ec",
      "metadata": {
        "id": "31ae7196-03be-4b79-888f-c12f169c25ec"
      },
      "outputs": [],
      "source": [
        "df_combined = df_combined.drop(columns=['adm0_name'])"
      ]
    },
    {
      "cell_type": "code",
      "execution_count": 333,
      "id": "46e4e26f-cb71-449f-85b8-cb944d869db0",
      "metadata": {
        "id": "46e4e26f-cb71-449f-85b8-cb944d869db0"
      },
      "outputs": [],
      "source": [
        "# Remove any columns we don't want and rearrange as well\n",
        "# -- Dropping\n",
        "# Drop min, max\n",
        "df_combined = df_combined.drop(df_combined.filter(regex='max').columns, axis=1)\n",
        "df_combined = df_combined.drop(df_combined.filter(regex='min').columns, axis=1)\n",
        "\n",
        "# -- Renaming\n",
        "df_combined = df_combined.rename(columns={'name': 'adm_name', 'P1_P2_geometric_avg': 'ccri', 'ISO3':'iso3'})"
      ]
    },
    {
      "cell_type": "code",
      "execution_count": 334,
      "id": "530a976d-0353-4f2d-9060-c49ad6854653",
      "metadata": {
        "id": "530a976d-0353-4f2d-9060-c49ad6854653"
      },
      "outputs": [],
      "source": [
        "# Set to 2 decimal places\n",
        "for col in df_combined.columns:\n",
        "    if type(df_combined['{}'.format(col)].iloc[0]) != str:\n",
        "        if col in ['wb_income', 'unicef_ro', 'geometry', 'fragile']:\n",
        "            continue\n",
        "        else:\n",
        "            df_combined[col] = df_combined[col].round(2)"
      ]
    },
    {
      "cell_type": "code",
      "execution_count": 335,
      "id": "1f10a387-b18e-411a-8e2e-15de9e6aa797",
      "metadata": {
        "id": "1f10a387-b18e-411a-8e2e-15de9e6aa797"
      },
      "outputs": [],
      "source": [
        "# Rename normalized to _norm\n",
        "df_combined.columns = [col.replace('_normalized', '_norm') if 'normalized' in col else col for col in df_combined.columns]"
      ]
    },
    {
      "cell_type": "code",
      "execution_count": 336,
      "id": "1b0bd036-5360-43e9-9648-9cc1297ec412",
      "metadata": {
        "id": "1b0bd036-5360-43e9-9648-9cc1297ec412"
      },
      "outputs": [],
      "source": [
        "# Renaming the hazards\n",
        "# P1 hazards\n",
        "df_combined.columns = [col.replace('river_flood', 'rfl') if 'river_flood' in col else col for col in df_combined.columns]\n",
        "df_combined.columns = [col.replace('coastal_flood', 'cfl') if 'coastal_flood' in col else col for col in df_combined.columns]\n",
        "df_combined.columns = [col.replace('tropical_storm', 'ts') if 'tropical_storm' in col else col for col in df_combined.columns]\n",
        "df_combined.columns = [col.replace('agricultural_drought', 'agdr') if 'agricultural_drought' in col else col for col in df_combined.columns]\n",
        "df_combined.columns = [col.replace('drought_spei', 'metdr_spei') if 'drought_spei' in col else col for col in df_combined.columns]\n",
        "df_combined.columns = [col.replace('drought_spi', 'metdr_spi') if 'drought_spi' in col else col for col in df_combined.columns]\n",
        "df_combined.columns = [col.replace('heatwave_frequency', 'hw_fre') if 'heatwave_frequency' in col else col for col in df_combined.columns]\n",
        "df_combined.columns = [col.replace('heatwave_severity', 'hw_sev') if 'heatwave_severity' in col else col for col in df_combined.columns]\n",
        "df_combined.columns = [col.replace('heatwave_duration', 'hw_dur') if 'heatwave_duration' in col else col for col in df_combined.columns]\n",
        "df_combined.columns = [col.replace('extreme_heat', 'ext') if 'extreme_heat' in col else col for col in df_combined.columns]\n",
        "df_combined.columns = [col.replace('fire_frequency', 'fr_fre') if 'fire_frequency' in col else col for col in df_combined.columns]\n",
        "df_combined.columns = [col.replace('fire_FRP', 'fr_int') if 'fire_FRP' in col else col for col in df_combined.columns]\n",
        "df_combined.columns = [col.replace('sand_dust', 'sds') if 'sand_dust' in col else col for col in df_combined.columns]\n",
        "df_combined.columns = [col.replace('vectorborne_malariapv', 'mal_pv') if 'vectorborne_malariapv' in col else col for col in df_combined.columns]\n",
        "df_combined.columns = [col.replace('vectorborne_malariapf', 'mal_pf') if 'vectorborne_malariapf' in col else col for col in df_combined.columns]\n",
        "df_combined.columns = [col.replace('air_pollution', 'pm25') if 'air_pollution' in col else col for col in df_combined.columns]\n",
        "\n",
        "# P2 hazards\n",
        "df_combined.columns = [col.replace('P2_Immunization_DTP1', 'hea_dtp1') if 'P2_Immunization_DTP1' in col else col for col in df_combined.columns]\n",
        "df_combined.columns = [col.replace('P2_Immunization_DTP3', 'hea_dtp3') if 'P2_Immunization_DTP3' in col else col for col in df_combined.columns]\n",
        "df_combined.columns = [col.replace('P2_Birth_Attendant_Y15T19', 'hea_skat') if 'P2_Birth_Attendant_Y15T19' in col else col for col in df_combined.columns]\n",
        "df_combined.columns = [col.replace('P2_electricity_access', 'hea_elec') if 'P2_electricity_access' in col else col for col in df_combined.columns]\n",
        "df_combined.columns = [col.replace('P2_Nutrition_Stunting_Modeled', 'nut_stu') if 'P2_Nutrition_Stunting_Modeled' in col else col for col in df_combined.columns]\n",
        "df_combined.columns = [col.replace('P2_food_poverty', 'nut_fpov') if 'P2_food_poverty' in col else col for col in df_combined.columns]\n",
        "df_combined.columns = [col.replace('P2_WASH_Drinking_Water', 'wash_wat') if 'P2_WASH_Drinking_Water' in col else col for col in df_combined.columns]\n",
        "df_combined.columns = [col.replace('P2_WASH_Drinking_Sanitation', 'wash_san') if 'P2_WASH_Drinking_Sanitation' in col else col for col in df_combined.columns]\n",
        "df_combined.columns = [col.replace('P2_WASH_Sanitation', 'wash_san') if 'P2_WASH_Sanitation' in col else col for col in df_combined.columns]\n",
        "df_combined.columns = [col.replace('P2_basic_hygiene', 'wash_hyg') if 'P2_basic_hygiene' in col else col for col in df_combined.columns]\n",
        "df_combined.columns = [col.replace('P2_LSCED', 'edu_lsos') if 'P2_LSCED' in col else col for col in df_combined.columns]\n",
        "df_combined.columns = [col.replace('P2_ED_CR_L2', 'edu_lscr') if 'P2_ED_CR_L2' in col else col for col in df_combined.columns]\n",
        "df_combined.columns = [col.replace('P2_Learning_Poverty', 'edu_lpov') if 'P2_Learning_Poverty' in col else col for col in df_combined.columns]\n",
        "df_combined.columns = [col.replace('P2_PT_Labor', 'pro_lab') if 'P2_PT_Labor' in col else col for col in df_combined.columns]\n",
        "df_combined.columns = [col.replace('P2_Child_Marriage', 'pro_mar') if 'P2_Child_Marriage' in col else col for col in df_combined.columns]\n",
        "df_combined.columns = [col.replace('P2_Child_poverty', 'prov_md') if 'P2_Child_poverty' in col else col for col in df_combined.columns]\n",
        "df_combined.columns = [col.replace('P2_Social_Protection', 'prov_u5sp') if 'P2_Social_Protection' in col else col for col in df_combined.columns]\n",
        "df_combined.columns = [col.replace('P2_Under5_Mortality', 'sur_u5mor') if 'P2_Under5_Mortality' in col else col for col in df_combined.columns]"
      ]
    },
    {
      "cell_type": "code",
      "execution_count": 337,
      "id": "f67fdf93-07c5-4b5d-b4a6-264bfdeac97f",
      "metadata": {
        "id": "f67fdf93-07c5-4b5d-b4a6-264bfdeac97f"
      },
      "outputs": [],
      "source": [
        "df_combined.columns = [col.replace('value_norm', 'norm') if 'value_norm' in col else col for col in df_combined.columns]"
      ]
    },
    {
      "cell_type": "code",
      "execution_count": 338,
      "id": "1a1d2c1a-105d-4d3f-aa7c-486633876075",
      "metadata": {
        "id": "1a1d2c1a-105d-4d3f-aa7c-486633876075"
      },
      "outputs": [],
      "source": [
        "# Rename some things\n",
        "df_combined = df_combined.rename(columns={'name': 'adm_name', 'ISO3':'iso3'})\n"
      ]
    },
    {
      "cell_type": "code",
      "execution_count": 339,
      "id": "637b27f5-a46f-49b2-98c5-2de8e8b2e1c9",
      "metadata": {
        "id": "637b27f5-a46f-49b2-98c5-2de8e8b2e1c9"
      },
      "outputs": [],
      "source": [
        "df_combined = df_combined[[\n",
        "    'iso3',\n",
        "    'adm_name',\n",
        "    'total_pop',\n",
        "    'u18_pop',\n",
        "    'wb_income',\n",
        "    'unicef_ro',\n",
        "    'ucode',\n",
        "    'uuid',\n",
        "    'geometry',\n",
        "    'type',\n",
        "    'fragile','rfl_abs',\n",
        " 'rfl_rel','rfl_abs_norm',\n",
        " 'rfl_rel_norm','cfl_abs',\n",
        " 'cfl_rel','cfl_abs_norm',\n",
        " 'cfl_rel_norm','ts_abs',\n",
        " 'ts_rel','ts_abs_norm',\n",
        " 'ts_rel_norm','agdr_abs',\n",
        " 'agdr_rel','agdr_abs_norm',\n",
        " 'agdr_rel_norm','metdr_spei_abs',\n",
        " 'metdr_spei_rel','metdr_spei_abs_norm',\n",
        " 'metdr_spei_rel_norm','metdr_spi_abs',\n",
        " 'metdr_spi_rel','metdr_spi_abs_norm',\n",
        " 'metdr_spi_rel_norm','hw_fre_abs',\n",
        " 'hw_fre_rel','hw_fre_abs_norm',\n",
        " 'hw_fre_rel_norm','hw_dur_abs',\n",
        " 'hw_dur_rel','hw_dur_abs_norm',\n",
        " 'hw_dur_rel_norm','hw_sev_abs',\n",
        " 'hw_sev_rel','hw_sev_abs_norm',\n",
        " 'hw_sev_rel_norm','ext_abs',\n",
        " 'ext_rel','ext_abs_norm',\n",
        " 'ext_rel_norm','fr_fre_abs',\n",
        " 'fr_fre_rel','fr_fre_abs_norm',\n",
        " 'fr_fre_rel_norm','fr_int_abs',\n",
        " 'fr_int_rel','fr_int_abs_norm',\n",
        " 'fr_int_rel_norm','sds_abs',\n",
        " 'sds_rel','sds_abs_norm',\n",
        " 'sds_rel_norm','pm25_abs',\n",
        " 'pm25_rel','pm25_abs_norm',\n",
        " 'pm25_rel_norm','mal_pv_abs',\n",
        " 'mal_pv_rel','mal_pv_abs_norm',\n",
        " 'mal_pv_rel_norm','mal_pf_abs',\n",
        " 'mal_pf_rel','mal_pf_abs_norm',\n",
        " 'mal_pf_rel_norm','hea_dtp1','hea_dtp1_norm', 'hea_dtp3','hea_dtp3_norm','hea_skat','hea_skat_norm',\n",
        "'hea_elec','hea_elec_norm','nut_stu','nut_stu_norm','nut_fpov','nut_fpov_norm','wash_wat',\n",
        "    'wash_wat_norm','wash_san','wash_san_norm','wash_hyg','wash_hyg_norm','edu_lsos','edu_lsos_norm',\n",
        "    'edu_lscr','edu_lscr_norm','edu_lpov','edu_lpov_norm','pro_lab','pro_lab_norm','pro_mar',\n",
        "    'pro_mar_norm','prov_md','prov_md_norm','prov_u5sp','prov_u5sp_norm','sur_u5mor',\n",
        "    'P1_rfl', 'P1_cfl', 'P1_ts', 'P1_dr', 'P1_hw', 'P1_fr', 'P1_sds', 'P1_pm25', 'P1_mal',\n",
        "    'P2_hea', 'P2_nut', 'P2_edu', 'P2_pro', 'P2_pov', 'P2_sur','P1_geometric_avg','P2_arithmetic_avg',\n",
        "'ccri']]"
      ]
    },
    {
      "cell_type": "code",
      "source": [
        "df_combined"
      ],
      "metadata": {
        "colab": {
          "base_uri": "https://localhost:8080/",
          "height": 1000
        },
        "id": "KkyfDTmp_rYu",
        "outputId": "7c40c367-66a2-4073-b30f-9faf6e9b1596"
      },
      "id": "KkyfDTmp_rYu",
      "execution_count": 340,
      "outputs": [
        {
          "output_type": "execute_result",
          "data": {
            "text/plain": [
              "    iso3                          adm_name    total_pop      u18_pop  \\\n",
              "0    SMR                        San Marino     32591.89      5133.70   \n",
              "1    MCO                            Monaco     24611.52      5150.67   \n",
              "2    VAT                          Holy See       572.08        16.46   \n",
              "3    MUS                         Mauritius   1248307.52    241215.58   \n",
              "4    AND                           Andorra     81429.70     12314.43   \n",
              "..   ...                               ...          ...          ...   \n",
              "190  BOL  Bolivia (Plurinational State of)  12331845.09   4403179.14   \n",
              "191  URY                           Uruguay   3336010.78    769020.36   \n",
              "192  PRY                          Paraguay   7026327.62   2365287.67   \n",
              "193  ARG                         Argentina  44999932.97  11966532.09   \n",
              "194  CHL                             Chile  19131410.65   3980898.16   \n",
              "\n",
              "    wb_income     unicef_ro   ucode                                  uuid  \\\n",
              "0       WB_HI           NaN  SMR_V1  a01626d4-992d-4892-af4d-4cdbfb40f0e1   \n",
              "1       WB_HI           NaN  MCO_V1  f9260923-3a04-4ec8-95eb-741f3036e821   \n",
              "2         NaN           NaN  VAT_V1  dab41bf4-9504-44b8-a144-2cb92e71a5f5   \n",
              "3      WB_UMI           NaN  MUS_V1  ba4ea616-9799-45c5-b83b-1c6b459716b5   \n",
              "4       WB_HI           NaN  AND_V1  0edb2089-1dfc-42cd-a7d8-ccdd7456b358   \n",
              "..        ...           ...     ...                                   ...   \n",
              "190    WB_LMI  UNICEF_LACRO  BOL_V1  77a7e4d5-6ca3-4e3a-a19c-3978442c8f66   \n",
              "191     WB_HI  UNICEF_LACRO  URY_V1  96f0a21b-d2a0-4072-b394-2a8e445b42d6   \n",
              "192    WB_UMI  UNICEF_LACRO  PRY_V1  0d68a9a7-75e6-4094-be23-e64d89ee6d51   \n",
              "193    WB_UMI  UNICEF_LACRO  ARG_V1  7fed002b-6a83-4ec8-9828-83e027917b1b   \n",
              "194     WB_HI  UNICEF_LACRO  CHL_V1  4a5fab40-591c-4a26-8769-deac6d683065   \n",
              "\n",
              "                                              geometry   type  ... P1_mal  \\\n",
              "0    POLYGON ((12.41147 43.90129, 12.44922 43.8989,...  State  ...    NaN   \n",
              "1    POLYGON ((7.4117 43.73428, 7.41831 43.7246, 7....  State  ...    NaN   \n",
              "2    POLYGON ((12.4459 41.90193, 12.45631 41.90037,...  State  ...    NaN   \n",
              "3    MULTIPOLYGON (((63.32207 -19.73689, 63.39515 -...  State  ...    NaN   \n",
              "4    POLYGON ((1.44256 42.60367, 1.44601 42.52099, ...  State  ...    NaN   \n",
              "..                                                 ...    ...  ...    ...   \n",
              "190  POLYGON ((-62.6452 -22.25046, -62.62124 -22.17...  State  ...   6.17   \n",
              "191  POLYGON ((-58.43656 -33.52902, -58.43117 -33.6...  State  ...    NaN   \n",
              "192  POLYGON ((-62.6452 -22.25046, -62.61168 -22.27...  State  ...    NaN   \n",
              "193  MULTIPOLYGON (((-62.07879 -39.07597, -62.07531...  State  ...    NaN   \n",
              "194  MULTIPOLYGON (((-74.30496 -44.01524, -74.24734...  State  ...    NaN   \n",
              "\n",
              "     P2_hea  P2_nut  P2_edu  P2_pro  P2_pov  P2_sur  P1_geometric_avg  \\\n",
              "0      0.81     NaN     NaN     NaN     NaN    0.00              7.53   \n",
              "1      0.00     NaN     NaN     NaN     NaN    0.12               NaN   \n",
              "2       NaN     NaN     NaN     NaN     NaN     NaN               NaN   \n",
              "3      0.20    1.52     NaN     NaN    8.92    1.24              7.94   \n",
              "4      0.00     NaN     NaN     NaN    8.78    0.10              7.83   \n",
              "..      ...     ...     ...     ...     ...     ...               ...   \n",
              "190    3.28    1.32    1.28    3.28    3.72    1.98              6.22   \n",
              "191    0.19    0.80    4.47     NaN    3.44    0.47              6.62   \n",
              "192    2.46    0.75    3.84    4.00    4.58    1.42              6.82   \n",
              "193    2.79    1.70    2.88    1.42    1.22    0.76              4.42   \n",
              "194    0.13    0.08    1.05     NaN    4.25    0.53              3.36   \n",
              "\n",
              "     P2_arithmetic_avg  ccri  \n",
              "0                 0.26  2.80  \n",
              "1                 0.00   NaN  \n",
              "2                  NaN   NaN  \n",
              "3                 2.71  6.22  \n",
              "4                 2.48  6.00  \n",
              "..                 ...   ...  \n",
              "190               3.06  5.97  \n",
              "191               1.76  5.06  \n",
              "192               2.88  6.03  \n",
              "193               1.77  4.43  \n",
              "194               1.10  3.46  \n",
              "\n",
              "[195 rows x 126 columns]"
            ],
            "text/html": [
              "\n",
              "  <div id=\"df-0626e657-b180-4399-9b7a-e6775c8f2550\" class=\"colab-df-container\">\n",
              "    <div>\n",
              "<style scoped>\n",
              "    .dataframe tbody tr th:only-of-type {\n",
              "        vertical-align: middle;\n",
              "    }\n",
              "\n",
              "    .dataframe tbody tr th {\n",
              "        vertical-align: top;\n",
              "    }\n",
              "\n",
              "    .dataframe thead th {\n",
              "        text-align: right;\n",
              "    }\n",
              "</style>\n",
              "<table border=\"1\" class=\"dataframe\">\n",
              "  <thead>\n",
              "    <tr style=\"text-align: right;\">\n",
              "      <th></th>\n",
              "      <th>iso3</th>\n",
              "      <th>adm_name</th>\n",
              "      <th>total_pop</th>\n",
              "      <th>u18_pop</th>\n",
              "      <th>wb_income</th>\n",
              "      <th>unicef_ro</th>\n",
              "      <th>ucode</th>\n",
              "      <th>uuid</th>\n",
              "      <th>geometry</th>\n",
              "      <th>type</th>\n",
              "      <th>...</th>\n",
              "      <th>P1_mal</th>\n",
              "      <th>P2_hea</th>\n",
              "      <th>P2_nut</th>\n",
              "      <th>P2_edu</th>\n",
              "      <th>P2_pro</th>\n",
              "      <th>P2_pov</th>\n",
              "      <th>P2_sur</th>\n",
              "      <th>P1_geometric_avg</th>\n",
              "      <th>P2_arithmetic_avg</th>\n",
              "      <th>ccri</th>\n",
              "    </tr>\n",
              "  </thead>\n",
              "  <tbody>\n",
              "    <tr>\n",
              "      <th>0</th>\n",
              "      <td>SMR</td>\n",
              "      <td>San Marino</td>\n",
              "      <td>32591.89</td>\n",
              "      <td>5133.70</td>\n",
              "      <td>WB_HI</td>\n",
              "      <td>NaN</td>\n",
              "      <td>SMR_V1</td>\n",
              "      <td>a01626d4-992d-4892-af4d-4cdbfb40f0e1</td>\n",
              "      <td>POLYGON ((12.41147 43.90129, 12.44922 43.8989,...</td>\n",
              "      <td>State</td>\n",
              "      <td>...</td>\n",
              "      <td>NaN</td>\n",
              "      <td>0.81</td>\n",
              "      <td>NaN</td>\n",
              "      <td>NaN</td>\n",
              "      <td>NaN</td>\n",
              "      <td>NaN</td>\n",
              "      <td>0.00</td>\n",
              "      <td>7.53</td>\n",
              "      <td>0.26</td>\n",
              "      <td>2.80</td>\n",
              "    </tr>\n",
              "    <tr>\n",
              "      <th>1</th>\n",
              "      <td>MCO</td>\n",
              "      <td>Monaco</td>\n",
              "      <td>24611.52</td>\n",
              "      <td>5150.67</td>\n",
              "      <td>WB_HI</td>\n",
              "      <td>NaN</td>\n",
              "      <td>MCO_V1</td>\n",
              "      <td>f9260923-3a04-4ec8-95eb-741f3036e821</td>\n",
              "      <td>POLYGON ((7.4117 43.73428, 7.41831 43.7246, 7....</td>\n",
              "      <td>State</td>\n",
              "      <td>...</td>\n",
              "      <td>NaN</td>\n",
              "      <td>0.00</td>\n",
              "      <td>NaN</td>\n",
              "      <td>NaN</td>\n",
              "      <td>NaN</td>\n",
              "      <td>NaN</td>\n",
              "      <td>0.12</td>\n",
              "      <td>NaN</td>\n",
              "      <td>0.00</td>\n",
              "      <td>NaN</td>\n",
              "    </tr>\n",
              "    <tr>\n",
              "      <th>2</th>\n",
              "      <td>VAT</td>\n",
              "      <td>Holy See</td>\n",
              "      <td>572.08</td>\n",
              "      <td>16.46</td>\n",
              "      <td>NaN</td>\n",
              "      <td>NaN</td>\n",
              "      <td>VAT_V1</td>\n",
              "      <td>dab41bf4-9504-44b8-a144-2cb92e71a5f5</td>\n",
              "      <td>POLYGON ((12.4459 41.90193, 12.45631 41.90037,...</td>\n",
              "      <td>State</td>\n",
              "      <td>...</td>\n",
              "      <td>NaN</td>\n",
              "      <td>NaN</td>\n",
              "      <td>NaN</td>\n",
              "      <td>NaN</td>\n",
              "      <td>NaN</td>\n",
              "      <td>NaN</td>\n",
              "      <td>NaN</td>\n",
              "      <td>NaN</td>\n",
              "      <td>NaN</td>\n",
              "      <td>NaN</td>\n",
              "    </tr>\n",
              "    <tr>\n",
              "      <th>3</th>\n",
              "      <td>MUS</td>\n",
              "      <td>Mauritius</td>\n",
              "      <td>1248307.52</td>\n",
              "      <td>241215.58</td>\n",
              "      <td>WB_UMI</td>\n",
              "      <td>NaN</td>\n",
              "      <td>MUS_V1</td>\n",
              "      <td>ba4ea616-9799-45c5-b83b-1c6b459716b5</td>\n",
              "      <td>MULTIPOLYGON (((63.32207 -19.73689, 63.39515 -...</td>\n",
              "      <td>State</td>\n",
              "      <td>...</td>\n",
              "      <td>NaN</td>\n",
              "      <td>0.20</td>\n",
              "      <td>1.52</td>\n",
              "      <td>NaN</td>\n",
              "      <td>NaN</td>\n",
              "      <td>8.92</td>\n",
              "      <td>1.24</td>\n",
              "      <td>7.94</td>\n",
              "      <td>2.71</td>\n",
              "      <td>6.22</td>\n",
              "    </tr>\n",
              "    <tr>\n",
              "      <th>4</th>\n",
              "      <td>AND</td>\n",
              "      <td>Andorra</td>\n",
              "      <td>81429.70</td>\n",
              "      <td>12314.43</td>\n",
              "      <td>WB_HI</td>\n",
              "      <td>NaN</td>\n",
              "      <td>AND_V1</td>\n",
              "      <td>0edb2089-1dfc-42cd-a7d8-ccdd7456b358</td>\n",
              "      <td>POLYGON ((1.44256 42.60367, 1.44601 42.52099, ...</td>\n",
              "      <td>State</td>\n",
              "      <td>...</td>\n",
              "      <td>NaN</td>\n",
              "      <td>0.00</td>\n",
              "      <td>NaN</td>\n",
              "      <td>NaN</td>\n",
              "      <td>NaN</td>\n",
              "      <td>8.78</td>\n",
              "      <td>0.10</td>\n",
              "      <td>7.83</td>\n",
              "      <td>2.48</td>\n",
              "      <td>6.00</td>\n",
              "    </tr>\n",
              "    <tr>\n",
              "      <th>...</th>\n",
              "      <td>...</td>\n",
              "      <td>...</td>\n",
              "      <td>...</td>\n",
              "      <td>...</td>\n",
              "      <td>...</td>\n",
              "      <td>...</td>\n",
              "      <td>...</td>\n",
              "      <td>...</td>\n",
              "      <td>...</td>\n",
              "      <td>...</td>\n",
              "      <td>...</td>\n",
              "      <td>...</td>\n",
              "      <td>...</td>\n",
              "      <td>...</td>\n",
              "      <td>...</td>\n",
              "      <td>...</td>\n",
              "      <td>...</td>\n",
              "      <td>...</td>\n",
              "      <td>...</td>\n",
              "      <td>...</td>\n",
              "      <td>...</td>\n",
              "    </tr>\n",
              "    <tr>\n",
              "      <th>190</th>\n",
              "      <td>BOL</td>\n",
              "      <td>Bolivia (Plurinational State of)</td>\n",
              "      <td>12331845.09</td>\n",
              "      <td>4403179.14</td>\n",
              "      <td>WB_LMI</td>\n",
              "      <td>UNICEF_LACRO</td>\n",
              "      <td>BOL_V1</td>\n",
              "      <td>77a7e4d5-6ca3-4e3a-a19c-3978442c8f66</td>\n",
              "      <td>POLYGON ((-62.6452 -22.25046, -62.62124 -22.17...</td>\n",
              "      <td>State</td>\n",
              "      <td>...</td>\n",
              "      <td>6.17</td>\n",
              "      <td>3.28</td>\n",
              "      <td>1.32</td>\n",
              "      <td>1.28</td>\n",
              "      <td>3.28</td>\n",
              "      <td>3.72</td>\n",
              "      <td>1.98</td>\n",
              "      <td>6.22</td>\n",
              "      <td>3.06</td>\n",
              "      <td>5.97</td>\n",
              "    </tr>\n",
              "    <tr>\n",
              "      <th>191</th>\n",
              "      <td>URY</td>\n",
              "      <td>Uruguay</td>\n",
              "      <td>3336010.78</td>\n",
              "      <td>769020.36</td>\n",
              "      <td>WB_HI</td>\n",
              "      <td>UNICEF_LACRO</td>\n",
              "      <td>URY_V1</td>\n",
              "      <td>96f0a21b-d2a0-4072-b394-2a8e445b42d6</td>\n",
              "      <td>POLYGON ((-58.43656 -33.52902, -58.43117 -33.6...</td>\n",
              "      <td>State</td>\n",
              "      <td>...</td>\n",
              "      <td>NaN</td>\n",
              "      <td>0.19</td>\n",
              "      <td>0.80</td>\n",
              "      <td>4.47</td>\n",
              "      <td>NaN</td>\n",
              "      <td>3.44</td>\n",
              "      <td>0.47</td>\n",
              "      <td>6.62</td>\n",
              "      <td>1.76</td>\n",
              "      <td>5.06</td>\n",
              "    </tr>\n",
              "    <tr>\n",
              "      <th>192</th>\n",
              "      <td>PRY</td>\n",
              "      <td>Paraguay</td>\n",
              "      <td>7026327.62</td>\n",
              "      <td>2365287.67</td>\n",
              "      <td>WB_UMI</td>\n",
              "      <td>UNICEF_LACRO</td>\n",
              "      <td>PRY_V1</td>\n",
              "      <td>0d68a9a7-75e6-4094-be23-e64d89ee6d51</td>\n",
              "      <td>POLYGON ((-62.6452 -22.25046, -62.61168 -22.27...</td>\n",
              "      <td>State</td>\n",
              "      <td>...</td>\n",
              "      <td>NaN</td>\n",
              "      <td>2.46</td>\n",
              "      <td>0.75</td>\n",
              "      <td>3.84</td>\n",
              "      <td>4.00</td>\n",
              "      <td>4.58</td>\n",
              "      <td>1.42</td>\n",
              "      <td>6.82</td>\n",
              "      <td>2.88</td>\n",
              "      <td>6.03</td>\n",
              "    </tr>\n",
              "    <tr>\n",
              "      <th>193</th>\n",
              "      <td>ARG</td>\n",
              "      <td>Argentina</td>\n",
              "      <td>44999932.97</td>\n",
              "      <td>11966532.09</td>\n",
              "      <td>WB_UMI</td>\n",
              "      <td>UNICEF_LACRO</td>\n",
              "      <td>ARG_V1</td>\n",
              "      <td>7fed002b-6a83-4ec8-9828-83e027917b1b</td>\n",
              "      <td>MULTIPOLYGON (((-62.07879 -39.07597, -62.07531...</td>\n",
              "      <td>State</td>\n",
              "      <td>...</td>\n",
              "      <td>NaN</td>\n",
              "      <td>2.79</td>\n",
              "      <td>1.70</td>\n",
              "      <td>2.88</td>\n",
              "      <td>1.42</td>\n",
              "      <td>1.22</td>\n",
              "      <td>0.76</td>\n",
              "      <td>4.42</td>\n",
              "      <td>1.77</td>\n",
              "      <td>4.43</td>\n",
              "    </tr>\n",
              "    <tr>\n",
              "      <th>194</th>\n",
              "      <td>CHL</td>\n",
              "      <td>Chile</td>\n",
              "      <td>19131410.65</td>\n",
              "      <td>3980898.16</td>\n",
              "      <td>WB_HI</td>\n",
              "      <td>UNICEF_LACRO</td>\n",
              "      <td>CHL_V1</td>\n",
              "      <td>4a5fab40-591c-4a26-8769-deac6d683065</td>\n",
              "      <td>MULTIPOLYGON (((-74.30496 -44.01524, -74.24734...</td>\n",
              "      <td>State</td>\n",
              "      <td>...</td>\n",
              "      <td>NaN</td>\n",
              "      <td>0.13</td>\n",
              "      <td>0.08</td>\n",
              "      <td>1.05</td>\n",
              "      <td>NaN</td>\n",
              "      <td>4.25</td>\n",
              "      <td>0.53</td>\n",
              "      <td>3.36</td>\n",
              "      <td>1.10</td>\n",
              "      <td>3.46</td>\n",
              "    </tr>\n",
              "  </tbody>\n",
              "</table>\n",
              "<p>195 rows × 126 columns</p>\n",
              "</div>\n",
              "    <div class=\"colab-df-buttons\">\n",
              "\n",
              "  <div class=\"colab-df-container\">\n",
              "    <button class=\"colab-df-convert\" onclick=\"convertToInteractive('df-0626e657-b180-4399-9b7a-e6775c8f2550')\"\n",
              "            title=\"Convert this dataframe to an interactive table.\"\n",
              "            style=\"display:none;\">\n",
              "\n",
              "  <svg xmlns=\"http://www.w3.org/2000/svg\" height=\"24px\" viewBox=\"0 -960 960 960\">\n",
              "    <path d=\"M120-120v-720h720v720H120Zm60-500h600v-160H180v160Zm220 220h160v-160H400v160Zm0 220h160v-160H400v160ZM180-400h160v-160H180v160Zm440 0h160v-160H620v160ZM180-180h160v-160H180v160Zm440 0h160v-160H620v160Z\"/>\n",
              "  </svg>\n",
              "    </button>\n",
              "\n",
              "  <style>\n",
              "    .colab-df-container {\n",
              "      display:flex;\n",
              "      gap: 12px;\n",
              "    }\n",
              "\n",
              "    .colab-df-convert {\n",
              "      background-color: #E8F0FE;\n",
              "      border: none;\n",
              "      border-radius: 50%;\n",
              "      cursor: pointer;\n",
              "      display: none;\n",
              "      fill: #1967D2;\n",
              "      height: 32px;\n",
              "      padding: 0 0 0 0;\n",
              "      width: 32px;\n",
              "    }\n",
              "\n",
              "    .colab-df-convert:hover {\n",
              "      background-color: #E2EBFA;\n",
              "      box-shadow: 0px 1px 2px rgba(60, 64, 67, 0.3), 0px 1px 3px 1px rgba(60, 64, 67, 0.15);\n",
              "      fill: #174EA6;\n",
              "    }\n",
              "\n",
              "    .colab-df-buttons div {\n",
              "      margin-bottom: 4px;\n",
              "    }\n",
              "\n",
              "    [theme=dark] .colab-df-convert {\n",
              "      background-color: #3B4455;\n",
              "      fill: #D2E3FC;\n",
              "    }\n",
              "\n",
              "    [theme=dark] .colab-df-convert:hover {\n",
              "      background-color: #434B5C;\n",
              "      box-shadow: 0px 1px 3px 1px rgba(0, 0, 0, 0.15);\n",
              "      filter: drop-shadow(0px 1px 2px rgba(0, 0, 0, 0.3));\n",
              "      fill: #FFFFFF;\n",
              "    }\n",
              "  </style>\n",
              "\n",
              "    <script>\n",
              "      const buttonEl =\n",
              "        document.querySelector('#df-0626e657-b180-4399-9b7a-e6775c8f2550 button.colab-df-convert');\n",
              "      buttonEl.style.display =\n",
              "        google.colab.kernel.accessAllowed ? 'block' : 'none';\n",
              "\n",
              "      async function convertToInteractive(key) {\n",
              "        const element = document.querySelector('#df-0626e657-b180-4399-9b7a-e6775c8f2550');\n",
              "        const dataTable =\n",
              "          await google.colab.kernel.invokeFunction('convertToInteractive',\n",
              "                                                    [key], {});\n",
              "        if (!dataTable) return;\n",
              "\n",
              "        const docLinkHtml = 'Like what you see? Visit the ' +\n",
              "          '<a target=\"_blank\" href=https://colab.research.google.com/notebooks/data_table.ipynb>data table notebook</a>'\n",
              "          + ' to learn more about interactive tables.';\n",
              "        element.innerHTML = '';\n",
              "        dataTable['output_type'] = 'display_data';\n",
              "        await google.colab.output.renderOutput(dataTable, element);\n",
              "        const docLink = document.createElement('div');\n",
              "        docLink.innerHTML = docLinkHtml;\n",
              "        element.appendChild(docLink);\n",
              "      }\n",
              "    </script>\n",
              "  </div>\n",
              "\n",
              "\n",
              "    <div id=\"df-4aab83a2-bec7-4d5a-9927-9039d3ea73e3\">\n",
              "      <button class=\"colab-df-quickchart\" onclick=\"quickchart('df-4aab83a2-bec7-4d5a-9927-9039d3ea73e3')\"\n",
              "                title=\"Suggest charts\"\n",
              "                style=\"display:none;\">\n",
              "\n",
              "<svg xmlns=\"http://www.w3.org/2000/svg\" height=\"24px\"viewBox=\"0 0 24 24\"\n",
              "     width=\"24px\">\n",
              "    <g>\n",
              "        <path d=\"M19 3H5c-1.1 0-2 .9-2 2v14c0 1.1.9 2 2 2h14c1.1 0 2-.9 2-2V5c0-1.1-.9-2-2-2zM9 17H7v-7h2v7zm4 0h-2V7h2v10zm4 0h-2v-4h2v4z\"/>\n",
              "    </g>\n",
              "</svg>\n",
              "      </button>\n",
              "\n",
              "<style>\n",
              "  .colab-df-quickchart {\n",
              "      --bg-color: #E8F0FE;\n",
              "      --fill-color: #1967D2;\n",
              "      --hover-bg-color: #E2EBFA;\n",
              "      --hover-fill-color: #174EA6;\n",
              "      --disabled-fill-color: #AAA;\n",
              "      --disabled-bg-color: #DDD;\n",
              "  }\n",
              "\n",
              "  [theme=dark] .colab-df-quickchart {\n",
              "      --bg-color: #3B4455;\n",
              "      --fill-color: #D2E3FC;\n",
              "      --hover-bg-color: #434B5C;\n",
              "      --hover-fill-color: #FFFFFF;\n",
              "      --disabled-bg-color: #3B4455;\n",
              "      --disabled-fill-color: #666;\n",
              "  }\n",
              "\n",
              "  .colab-df-quickchart {\n",
              "    background-color: var(--bg-color);\n",
              "    border: none;\n",
              "    border-radius: 50%;\n",
              "    cursor: pointer;\n",
              "    display: none;\n",
              "    fill: var(--fill-color);\n",
              "    height: 32px;\n",
              "    padding: 0;\n",
              "    width: 32px;\n",
              "  }\n",
              "\n",
              "  .colab-df-quickchart:hover {\n",
              "    background-color: var(--hover-bg-color);\n",
              "    box-shadow: 0 1px 2px rgba(60, 64, 67, 0.3), 0 1px 3px 1px rgba(60, 64, 67, 0.15);\n",
              "    fill: var(--button-hover-fill-color);\n",
              "  }\n",
              "\n",
              "  .colab-df-quickchart-complete:disabled,\n",
              "  .colab-df-quickchart-complete:disabled:hover {\n",
              "    background-color: var(--disabled-bg-color);\n",
              "    fill: var(--disabled-fill-color);\n",
              "    box-shadow: none;\n",
              "  }\n",
              "\n",
              "  .colab-df-spinner {\n",
              "    border: 2px solid var(--fill-color);\n",
              "    border-color: transparent;\n",
              "    border-bottom-color: var(--fill-color);\n",
              "    animation:\n",
              "      spin 1s steps(1) infinite;\n",
              "  }\n",
              "\n",
              "  @keyframes spin {\n",
              "    0% {\n",
              "      border-color: transparent;\n",
              "      border-bottom-color: var(--fill-color);\n",
              "      border-left-color: var(--fill-color);\n",
              "    }\n",
              "    20% {\n",
              "      border-color: transparent;\n",
              "      border-left-color: var(--fill-color);\n",
              "      border-top-color: var(--fill-color);\n",
              "    }\n",
              "    30% {\n",
              "      border-color: transparent;\n",
              "      border-left-color: var(--fill-color);\n",
              "      border-top-color: var(--fill-color);\n",
              "      border-right-color: var(--fill-color);\n",
              "    }\n",
              "    40% {\n",
              "      border-color: transparent;\n",
              "      border-right-color: var(--fill-color);\n",
              "      border-top-color: var(--fill-color);\n",
              "    }\n",
              "    60% {\n",
              "      border-color: transparent;\n",
              "      border-right-color: var(--fill-color);\n",
              "    }\n",
              "    80% {\n",
              "      border-color: transparent;\n",
              "      border-right-color: var(--fill-color);\n",
              "      border-bottom-color: var(--fill-color);\n",
              "    }\n",
              "    90% {\n",
              "      border-color: transparent;\n",
              "      border-bottom-color: var(--fill-color);\n",
              "    }\n",
              "  }\n",
              "</style>\n",
              "\n",
              "      <script>\n",
              "        async function quickchart(key) {\n",
              "          const quickchartButtonEl =\n",
              "            document.querySelector('#' + key + ' button');\n",
              "          quickchartButtonEl.disabled = true;  // To prevent multiple clicks.\n",
              "          quickchartButtonEl.classList.add('colab-df-spinner');\n",
              "          try {\n",
              "            const charts = await google.colab.kernel.invokeFunction(\n",
              "                'suggestCharts', [key], {});\n",
              "          } catch (error) {\n",
              "            console.error('Error during call to suggestCharts:', error);\n",
              "          }\n",
              "          quickchartButtonEl.classList.remove('colab-df-spinner');\n",
              "          quickchartButtonEl.classList.add('colab-df-quickchart-complete');\n",
              "        }\n",
              "        (() => {\n",
              "          let quickchartButtonEl =\n",
              "            document.querySelector('#df-4aab83a2-bec7-4d5a-9927-9039d3ea73e3 button');\n",
              "          quickchartButtonEl.style.display =\n",
              "            google.colab.kernel.accessAllowed ? 'block' : 'none';\n",
              "        })();\n",
              "      </script>\n",
              "    </div>\n",
              "\n",
              "  <div id=\"id_2f8bd882-624d-46cc-9dc9-43edc1dc73cc\">\n",
              "    <style>\n",
              "      .colab-df-generate {\n",
              "        background-color: #E8F0FE;\n",
              "        border: none;\n",
              "        border-radius: 50%;\n",
              "        cursor: pointer;\n",
              "        display: none;\n",
              "        fill: #1967D2;\n",
              "        height: 32px;\n",
              "        padding: 0 0 0 0;\n",
              "        width: 32px;\n",
              "      }\n",
              "\n",
              "      .colab-df-generate:hover {\n",
              "        background-color: #E2EBFA;\n",
              "        box-shadow: 0px 1px 2px rgba(60, 64, 67, 0.3), 0px 1px 3px 1px rgba(60, 64, 67, 0.15);\n",
              "        fill: #174EA6;\n",
              "      }\n",
              "\n",
              "      [theme=dark] .colab-df-generate {\n",
              "        background-color: #3B4455;\n",
              "        fill: #D2E3FC;\n",
              "      }\n",
              "\n",
              "      [theme=dark] .colab-df-generate:hover {\n",
              "        background-color: #434B5C;\n",
              "        box-shadow: 0px 1px 3px 1px rgba(0, 0, 0, 0.15);\n",
              "        filter: drop-shadow(0px 1px 2px rgba(0, 0, 0, 0.3));\n",
              "        fill: #FFFFFF;\n",
              "      }\n",
              "    </style>\n",
              "    <button class=\"colab-df-generate\" onclick=\"generateWithVariable('df_combined')\"\n",
              "            title=\"Generate code using this dataframe.\"\n",
              "            style=\"display:none;\">\n",
              "\n",
              "  <svg xmlns=\"http://www.w3.org/2000/svg\" height=\"24px\"viewBox=\"0 0 24 24\"\n",
              "       width=\"24px\">\n",
              "    <path d=\"M7,19H8.4L18.45,9,17,7.55,7,17.6ZM5,21V16.75L18.45,3.32a2,2,0,0,1,2.83,0l1.4,1.43a1.91,1.91,0,0,1,.58,1.4,1.91,1.91,0,0,1-.58,1.4L9.25,21ZM18.45,9,17,7.55Zm-12,3A5.31,5.31,0,0,0,4.9,8.1,5.31,5.31,0,0,0,1,6.5,5.31,5.31,0,0,0,4.9,4.9,5.31,5.31,0,0,0,6.5,1,5.31,5.31,0,0,0,8.1,4.9,5.31,5.31,0,0,0,12,6.5,5.46,5.46,0,0,0,6.5,12Z\"/>\n",
              "  </svg>\n",
              "    </button>\n",
              "    <script>\n",
              "      (() => {\n",
              "      const buttonEl =\n",
              "        document.querySelector('#id_2f8bd882-624d-46cc-9dc9-43edc1dc73cc button.colab-df-generate');\n",
              "      buttonEl.style.display =\n",
              "        google.colab.kernel.accessAllowed ? 'block' : 'none';\n",
              "\n",
              "      buttonEl.onclick = () => {\n",
              "        google.colab.notebook.generateWithVariable('df_combined');\n",
              "      }\n",
              "      })();\n",
              "    </script>\n",
              "  </div>\n",
              "\n",
              "    </div>\n",
              "  </div>\n"
            ],
            "application/vnd.google.colaboratory.intrinsic+json": {
              "type": "dataframe",
              "variable_name": "df_combined"
            }
          },
          "metadata": {},
          "execution_count": 340
        }
      ]
    },
    {
      "cell_type": "code",
      "execution_count": 341,
      "id": "88873919-89a2-473f-bce8-c3c72e1f83fc",
      "metadata": {
        "id": "88873919-89a2-473f-bce8-c3c72e1f83fc"
      },
      "outputs": [],
      "source": [
        "# int vals that are abs\n",
        "for col in df_combined.columns:\n",
        "    if 'abs' in col and 'norm' not in col:\n",
        "        df_combined[col] = df_combined[col].astype(int)"
      ]
    },
    {
      "cell_type": "code",
      "execution_count": 342,
      "id": "474cd4d6-c8c3-49d1-8deb-1badd5b83b6d",
      "metadata": {
        "id": "474cd4d6-c8c3-49d1-8deb-1badd5b83b6d"
      },
      "outputs": [],
      "source": [
        "df_combined['total_pop'] = df_combined['total_pop'].round(0)\n",
        "df_combined['u18_pop'] = df_combined['u18_pop'].round(0)\n",
        "df_combined['total_pop'] = pd.to_numeric(df_combined['total_pop'], errors='coerce').astype('Int64')\n",
        "df_combined['u18_pop'] = pd.to_numeric(df_combined['u18_pop'], errors='coerce').astype('Int64')"
      ]
    },
    {
      "cell_type": "code",
      "execution_count": 343,
      "id": "525ad872-b3bb-4f03-b85c-93384aa64c78",
      "metadata": {
        "id": "525ad872-b3bb-4f03-b85c-93384aa64c78"
      },
      "outputs": [],
      "source": [
        "gdf = gpd.GeoDataFrame(df_combined, geometry=df_combined['geometry'], crs='EPSG:4326')"
      ]
    },
    {
      "cell_type": "code",
      "execution_count": 344,
      "id": "659f36b3-075f-42d1-b0d8-607a7ba760c5",
      "metadata": {
        "id": "659f36b3-075f-42d1-b0d8-607a7ba760c5"
      },
      "outputs": [],
      "source": [
        "gdf.to_file('{}/CCRI_results_misc/CCRI_P1_P2_format.geojson'.format(data_dir))"
      ]
    }
  ],
  "metadata": {
    "kernelspec": {
      "display_name": "Python 3 (ipykernel)",
      "language": "python",
      "name": "python3"
    },
    "language_info": {
      "codemirror_mode": {
        "name": "ipython",
        "version": 3
      },
      "file_extension": ".py",
      "mimetype": "text/x-python",
      "name": "python",
      "nbconvert_exporter": "python",
      "pygments_lexer": "ipython3",
      "version": "3.10.14"
    },
    "colab": {
      "provenance": []
    }
  },
  "nbformat": 4,
  "nbformat_minor": 5
}