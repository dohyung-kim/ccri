{
 "cells": [
  {
   "cell_type": "code",
   "execution_count": null,
   "id": "e545bc78-8937-47f2-bf19-134cf0f6b019",
   "metadata": {},
   "outputs": [],
   "source": [
    "# Combine all data from P1, P2 into final CCRI layer"
   ]
  },
  {
   "cell_type": "code",
   "execution_count": null,
   "id": "e23f2052-6c10-42fc-ae54-96667be10c49",
   "metadata": {},
   "outputs": [],
   "source": [
    "data_dir = input('Enter data directory:')\n",
    "print(data_dir)"
   ]
  },
  {
   "cell_type": "code",
   "execution_count": null,
   "id": "8237e488-357b-4802-a06d-e719979710d7",
   "metadata": {},
   "outputs": [],
   "source": []
  }
 ],
 "metadata": {
  "kernelspec": {
   "display_name": "Python 3 (ipykernel)",
   "language": "python",
   "name": "python3"
  },
  "language_info": {
   "codemirror_mode": {
    "name": "ipython",
    "version": 3
   },
   "file_extension": ".py",
   "mimetype": "text/x-python",
   "name": "python",
   "nbconvert_exporter": "python",
   "pygments_lexer": "ipython3",
   "version": "3.10.14"
  }
 },
 "nbformat": 4,
 "nbformat_minor": 5
}
