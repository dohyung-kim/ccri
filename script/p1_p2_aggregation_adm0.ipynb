{
  "nbformat": 4,
  "nbformat_minor": 0,
  "metadata": {
    "colab": {
      "provenance": [],
      "mount_file_id": "1fw4JXC8eJv64tC5QwpRng17mvilihzDp",
      "authorship_tag": "ABX9TyPCqlSkvqqKB/F1hWb1Ya0k",
      "include_colab_link": true
    },
    "kernelspec": {
      "name": "python3",
      "display_name": "Python 3"
    },
    "language_info": {
      "name": "python"
    }
  },
  "cells": [
    {
      "cell_type": "markdown",
      "metadata": {
        "id": "view-in-github",
        "colab_type": "text"
      },
      "source": [
        "<a href=\"https://colab.research.google.com/github/dohyung-kim/ccri/blob/main/script/p1_p2_aggregation_adm0.ipynb\" target=\"_parent\"><img src=\"https://colab.research.google.com/assets/colab-badge.svg\" alt=\"Open In Colab\"/></a>"
      ]
    },
    {
      "cell_type": "code",
      "source": [
        "import pandas as pd\n",
        "import numpy as np\n",
        "import matplotlib.pyplot as plt\n",
        "import seaborn as sns"
      ],
      "metadata": {
        "id": "gsmHO75B2iSD"
      },
      "execution_count": 41,
      "outputs": []
    },
    {
      "cell_type": "code",
      "execution_count": 42,
      "metadata": {
        "id": "qwCFCfuVmLdr"
      },
      "outputs": [],
      "source": [
        "df_P1 = pd.read_csv('/content/drive/MyDrive/p1_exposure/Merged_Exposure_Data.csv')\n",
        "df_P2 = pd.read_csv(\"/content/drive/MyDrive/CCRI/pillar2/P2_Merged_Normalized_avg.csv\")\n",
        "\n"
      ]
    },
    {
      "cell_type": "code",
      "source": [
        "df_P1.columns"
      ],
      "metadata": {
        "colab": {
          "base_uri": "https://localhost:8080/"
        },
        "id": "xgfTwpHR4NOr",
        "outputId": "9d529283-f4da-42f3-9c14-88de364bc5bb"
      },
      "execution_count": 43,
      "outputs": [
        {
          "output_type": "execute_result",
          "data": {
            "text/plain": [
              "Index(['ISO3', 'name', 'heatwave_frequency_absolute',\n",
              "       'heatwave_frequency_absolute_min', 'heatwave_frequency_absolute_max',\n",
              "       'heatwave_frequency_relative', 'heatwave_frequency_relative_min',\n",
              "       'heatwave_frequency_relative_max', 'heatwave_duration_absolute',\n",
              "       'heatwave_duration_absolute_min',\n",
              "       ...\n",
              "       'vectorborne_malariapv_absolute_max', 'vectorborne_malariapv_relative',\n",
              "       'vectorborne_malariapv_relative_min',\n",
              "       'vectorborne_malariapv_relative_max', 'vectorborne_malariapf_absolute',\n",
              "       'vectorborne_malariapf_absolute_min',\n",
              "       'vectorborne_malariapf_absolute_max', 'vectorborne_malariapf_relative',\n",
              "       'vectorborne_malariapf_relative_min',\n",
              "       'vectorborne_malariapf_relative_max'],\n",
              "      dtype='object', length=104)"
            ]
          },
          "metadata": {},
          "execution_count": 43
        }
      ]
    },
    {
      "cell_type": "code",
      "source": [
        "df_P2.columns"
      ],
      "metadata": {
        "colab": {
          "base_uri": "https://localhost:8080/"
        },
        "id": "L9v3EtKR4PPi",
        "outputId": "4d993246-ba05-40de-85ee-d382e29ac572"
      },
      "execution_count": 44,
      "outputs": [
        {
          "output_type": "execute_result",
          "data": {
            "text/plain": [
              "Index(['iso3', 'P2_WASH_Drinking_Water_value_normalized',\n",
              "       'P2_WASH_Drinking_Water_min', 'P2_WASH_Drinking_Water_max',\n",
              "       'P2_WASH_Sanitation_value_normalized', 'P2_WASH_Sanitation_min',\n",
              "       'P2_WASH_Sanitation_max', 'P2_LSCED_value_normalized', 'P2_LSCED_min',\n",
              "       'P2_LSCED_max', 'P2_Nutrition_Wasting_value_normalized',\n",
              "       'P2_Nutrition_Wasting_min', 'P2_Nutrition_Wasting_max',\n",
              "       'P2_Nutrition_Stunting_Modeled_value_normalized',\n",
              "       'P2_Nutrition_Stunting_Modeled_min',\n",
              "       'P2_Nutrition_Stunting_Modeled_max',\n",
              "       'P2_Child_Mortality_value_normalized', 'P2_Child_Mortality_min',\n",
              "       'P2_Child_Mortality_max', 'P2_Immunization_DTP1_value_normalized',\n",
              "       'P2_Immunization_DTP1_min', 'P2_Immunization_DTP1_max',\n",
              "       'P2_Immunization_DTP3_value_normalized', 'P2_Immunization_DTP3_min',\n",
              "       'P2_Immunization_DTP3_max', 'P2_PT_Labor_value_normalized',\n",
              "       'P2_PT_Labor_min', 'P2_PT_Labor_max',\n",
              "       'P2_Learning_Poverty_value_normalized', 'P2_Learning_Poverty_min',\n",
              "       'P2_Learning_Poverty_max', 'P2_ED_CR_L2_value_normalized',\n",
              "       'P2_ED_CR_L2_min', 'P2_ED_CR_L2_max',\n",
              "       'P2_Birth_Attendant_Y15T19_value_normalized',\n",
              "       'P2_Birth_Attendant_Y15T19_min', 'P2_Birth_Attendant_Y15T19_max',\n",
              "       'P2_Child_poverty_value_normalized', 'P2_Child_poverty_min',\n",
              "       'P2_Child_poverty_max', 'P2_Child_Marriage_value_normalized',\n",
              "       'P2_Child_Marriage_min', 'P2_Child_Marriage_max',\n",
              "       'P2_food_poverty_value_normalized', 'P2_food_poverty_min',\n",
              "       'P2_food_poverty_max', 'P2_Social_Protection_value_normalized',\n",
              "       'P2_Social_Protection_min', 'P2_Social_Protection_max',\n",
              "       'P2_basic_hygiene_value_normalized', 'P2_basic_hygiene_min',\n",
              "       'P2_basic_hygiene_max', 'P2_electricity_access_value_normalized',\n",
              "       'P2_electricity_access_min', 'P2_electricity_access_max',\n",
              "       'P2_arithmetic_avg', 'P2_geometric_avg'],\n",
              "      dtype='object')"
            ]
          },
          "metadata": {},
          "execution_count": 44
        }
      ]
    },
    {
      "cell_type": "code",
      "source": [
        "import numpy as np\n",
        "from scipy.stats import gmean\n",
        "\n",
        "# Step 1: Calculate Geometric Mean between '_absolute' and '_relative' columns for df_P1\n",
        "# List of columns ending with '_absolute' and '_relative'\n",
        "absolute_columns = [col for col in df_P1.columns if '_absolute' in col]\n",
        "relative_columns = [col for col in df_P1.columns if '_relative' in col]\n",
        "\n",
        "# Calculate geometric mean for each pair of '_absolute' and '_relative' columns\n",
        "for abs_col, rel_col in zip(absolute_columns, relative_columns):\n",
        "    # Apply geometric mean for each pair, ignoring NaN values\n",
        "    df_P1[abs_col + '_mean'] = df_P1[[abs_col, rel_col]].apply(\n",
        "        lambda row: gmean(row.dropna() + 1e-10) if len(row.dropna()) > 0 else np.nan, axis=1\n",
        "    )\n",
        "    min_value = df_P1[abs_col + '_mean'].min()\n",
        "    max_value = df_P1[abs_col + '_mean'].max()\n",
        "    # Scale the df_P1[abs_col + '_mean'] column to range from 0 to 10\n",
        "    df_P1[abs_col + '_mean'] = 10 *(df_P1[abs_col + '_mean'] - min_value) / (max_value - min_value)\n",
        "\n",
        "# Step 2: Calculate Geometric Mean across all '_mean' columns in df_P1\n",
        "# Select columns that are the geometric means (those ending with '_mean')\n",
        "geometric_mean_columns = [col for col in df_P1.columns if '_mean' in col]\n",
        "\n",
        "# Calculate the geometric mean for each row across all geometric mean columns\n",
        "df_P1['P1_geometric_avg'] = df_P1[geometric_mean_columns].apply(\n",
        "    lambda row: gmean(row[row.notna()] + 1e-10) if np.any(row.notna()) else np.nan, axis=1\n",
        ")\n",
        "# Step 2: Apply Min-Max scaling to 'P1_geometric_avg' to the range 0-10\n",
        "min_value = df_P1['P1_geometric_avg'].min()\n",
        "max_value = df_P1['P1_geometric_avg'].max()\n",
        "\n",
        "# Scale the 'P1_geometric_avg' column to range from 0 to 10\n",
        "df_P1['P1_geometric_avg'] = 10 * (df_P1['P1_geometric_avg'] - min_value) / (max_value - min_value)\n",
        "\n",
        "# Step 3: Group by 'ISO3' and calculate the average of 'P1_geometric_avg' for each 'ISO3'\n",
        "df_P1_grouped = df_P1.groupby('ISO3', as_index=False)['P1_geometric_avg'].mean()\n",
        "\n",
        "# Step 4: Merge df_P1_grouped with df_P2 on 'ISO3'\n",
        "merged_df = df_P1_grouped.merge(df_P2[['iso3', 'P2_arithmetic_avg']], left_on='ISO3', right_on='iso3', how='left')\n",
        "\n",
        "# Step 5: Calculate the Geometric Mean between 'P1_geometric_avg' and 'P2_arithmetic_avg'\n",
        "merged_df['P1_P2_geometric_avg'] = merged_df.apply(\n",
        "    lambda row: gmean([row['P1_geometric_avg'], row['P2_arithmetic_avg']] + [1e-10])\n",
        "    if not np.isnan(row['P1_geometric_avg']) and not np.isnan(row['P2_arithmetic_avg']) else np.nan, axis=1\n",
        ")\n",
        "\n",
        "# Step 6: Apply Min-Max Scaling to 'P1_p2_geometric_avg' to the range 0-10\n",
        "min_value = merged_df['P1_P2_geometric_avg'].min()\n",
        "max_value = merged_df['P1_P2_geometric_avg'].max()\n",
        "# Scale the 'P1_p2_geometric_avg' column to range from 0 to 10\n",
        "merged_df['P1_P2_geometric_avg'] = 10 * (merged_df['P1_P2_geometric_avg'] - min_value) / (max_value - min_value)\n",
        "\n",
        "# Now 'merged_df' contains the scaled 'P1_p2_geometric_avg_scaled'\n",
        "print(merged_df[['ISO3', 'P1_geometric_avg', 'P2_arithmetic_avg', 'P1_P2_geometric_avg']])\n"
      ],
      "metadata": {
        "colab": {
          "base_uri": "https://localhost:8080/"
        },
        "id": "1LAAsfqx4Zmy",
        "outputId": "f3ac8e2a-59b0-469f-cc5a-34445d940f69"
      },
      "execution_count": 45,
      "outputs": [
        {
          "output_type": "stream",
          "name": "stdout",
          "text": [
            "    ISO3  P1_geometric_avg  P2_arithmetic_avg  P1_P2_geometric_avg\n",
            "0    ABW      2.514001e-07           2.005774             0.029468\n",
            "1    AFG      6.008647e-01           5.048582             5.359398\n",
            "2    AGO      7.813471e-02           6.179810             2.904515\n",
            "3    AIA      5.642161e-08           0.190978             0.008177\n",
            "4    ALA      0.000000e+00                NaN                  NaN\n",
            "..   ...               ...                ...                  ...\n",
            "257  xSI      0.000000e+00                NaN                  NaN\n",
            "258  xSK      0.000000e+00                NaN                  NaN\n",
            "259  xSR      0.000000e+00                NaN                  NaN\n",
            "260  xUK      2.930686e-07                NaN                  NaN\n",
            "261  xxx      8.367345e-07                NaN                  NaN\n",
            "\n",
            "[262 rows x 4 columns]\n"
          ]
        }
      ]
    },
    {
      "cell_type": "code",
      "source": [
        "merged_df.to_csv('/content/drive/MyDrive/p1_exposure/p1_p2_avg_ccri.csv', index=False)"
      ],
      "metadata": {
        "id": "BfFhmrKE9_ue"
      },
      "execution_count": 33,
      "outputs": []
    },
    {
      "cell_type": "code",
      "source": [
        "import geopandas as gpd\n",
        "import pandas as pd\n",
        "\n",
        "# Load the GeoJSON file as a GeoDataFrame\n",
        "geo_df = gpd.read_file(\"/content/drive/MyDrive/CCRI/child_pop_summaryadm0_geojson.geojson\")\n"
      ],
      "metadata": {
        "id": "xFlhKzMg-sE_"
      },
      "execution_count": 46,
      "outputs": []
    },
    {
      "cell_type": "code",
      "source": [
        "\n",
        "# Ensure the key for merging is consistent (e.g., 'ISO3' in df_P1 and 'iso3' in df_P2)\n",
        "# Merge with merged_df (use 'ISO3' from merged_df and 'iso3' from geo_df or merged_df as needed)\n",
        "merged_geo_df = geo_df.merge(merged_df, left_on='ISO3', right_on='ISO3', how='left')\n",
        "\n",
        "# Save the merged GeoDataFrame as a new GeoJSON file\n",
        "output_geojson = \"/content/drive/MyDrive/p1_exposure/p1_p2_avg_ccri.geojson\"\n",
        "merged_geo_df.to_file(output_geojson, driver='GeoJSON')\n",
        "\n",
        "print(f\"Merged GeoDataFrame saved to {output_geojson}\")"
      ],
      "metadata": {
        "colab": {
          "base_uri": "https://localhost:8080/"
        },
        "id": "j_FRUvFpJoQp",
        "outputId": "62299bb3-a346-4cf2-a62b-c91b5b37392e"
      },
      "execution_count": 47,
      "outputs": [
        {
          "output_type": "stream",
          "name": "stdout",
          "text": [
            "Merged GeoDataFrame saved to /content/drive/MyDrive/p1_exposure/p1_p2_avg_ccri.geojson\n"
          ]
        }
      ]
    },
    {
      "cell_type": "code",
      "source": [],
      "metadata": {
        "id": "_TuSVEOl4yyp"
      },
      "execution_count": null,
      "outputs": []
    }
  ]
}