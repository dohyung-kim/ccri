{
  "nbformat": 4,
  "nbformat_minor": 0,
  "metadata": {
    "colab": {
      "provenance": [],
      "mount_file_id": "1vwHXKREcGTC7TBGXfLMoWfoun4Xt9enr",
      "authorship_tag": "ABX9TyPFktwgPYtorSQIggvBiHUe",
      "include_colab_link": true
    },
    "kernelspec": {
      "name": "python3",
      "display_name": "Python 3"
    },
    "language_info": {
      "name": "python"
    }
  },
  "cells": [
    {
      "cell_type": "markdown",
      "metadata": {
        "id": "view-in-github",
        "colab_type": "text"
      },
      "source": [
        "<a href=\"https://colab.research.google.com/github/dohyung-kim/ccri/blob/main/script/pixel/P1_P2_aggregation_pixel.ipynb\" target=\"_parent\"><img src=\"https://colab.research.google.com/assets/colab-badge.svg\" alt=\"Open In Colab\"/></a>"
      ]
    },
    {
      "cell_type": "code",
      "source": [
        "!pip install geopandas rasterio numpy pandas"
      ],
      "metadata": {
        "colab": {
          "base_uri": "https://localhost:8080/"
        },
        "id": "W8z3kHSSDNAt",
        "outputId": "c7537751-129f-4138-ea03-24167b1816e1"
      },
      "execution_count": 1,
      "outputs": [
        {
          "output_type": "stream",
          "name": "stdout",
          "text": [
            "Requirement already satisfied: geopandas in /usr/local/lib/python3.11/dist-packages (1.0.1)\n",
            "Collecting rasterio\n",
            "  Downloading rasterio-1.4.3-cp311-cp311-manylinux_2_17_x86_64.manylinux2014_x86_64.whl.metadata (9.1 kB)\n",
            "Requirement already satisfied: numpy in /usr/local/lib/python3.11/dist-packages (2.0.2)\n",
            "Requirement already satisfied: pandas in /usr/local/lib/python3.11/dist-packages (2.2.2)\n",
            "Requirement already satisfied: pyogrio>=0.7.2 in /usr/local/lib/python3.11/dist-packages (from geopandas) (0.10.0)\n",
            "Requirement already satisfied: packaging in /usr/local/lib/python3.11/dist-packages (from geopandas) (24.2)\n",
            "Requirement already satisfied: pyproj>=3.3.0 in /usr/local/lib/python3.11/dist-packages (from geopandas) (3.7.1)\n",
            "Requirement already satisfied: shapely>=2.0.0 in /usr/local/lib/python3.11/dist-packages (from geopandas) (2.0.7)\n",
            "Collecting affine (from rasterio)\n",
            "  Downloading affine-2.4.0-py3-none-any.whl.metadata (4.0 kB)\n",
            "Requirement already satisfied: attrs in /usr/local/lib/python3.11/dist-packages (from rasterio) (25.3.0)\n",
            "Requirement already satisfied: certifi in /usr/local/lib/python3.11/dist-packages (from rasterio) (2025.1.31)\n",
            "Requirement already satisfied: click>=4.0 in /usr/local/lib/python3.11/dist-packages (from rasterio) (8.1.8)\n",
            "Collecting cligj>=0.5 (from rasterio)\n",
            "  Downloading cligj-0.7.2-py3-none-any.whl.metadata (5.0 kB)\n",
            "Collecting click-plugins (from rasterio)\n",
            "  Downloading click_plugins-1.1.1-py2.py3-none-any.whl.metadata (6.4 kB)\n",
            "Requirement already satisfied: pyparsing in /usr/local/lib/python3.11/dist-packages (from rasterio) (3.2.1)\n",
            "Requirement already satisfied: python-dateutil>=2.8.2 in /usr/local/lib/python3.11/dist-packages (from pandas) (2.8.2)\n",
            "Requirement already satisfied: pytz>=2020.1 in /usr/local/lib/python3.11/dist-packages (from pandas) (2025.1)\n",
            "Requirement already satisfied: tzdata>=2022.7 in /usr/local/lib/python3.11/dist-packages (from pandas) (2025.1)\n",
            "Requirement already satisfied: six>=1.5 in /usr/local/lib/python3.11/dist-packages (from python-dateutil>=2.8.2->pandas) (1.17.0)\n",
            "Downloading rasterio-1.4.3-cp311-cp311-manylinux_2_17_x86_64.manylinux2014_x86_64.whl (22.2 MB)\n",
            "\u001b[2K   \u001b[90m━━━━━━━━━━━━━━━━━━━━━━━━━━━━━━━━━━━━━━━━\u001b[0m \u001b[32m22.2/22.2 MB\u001b[0m \u001b[31m50.4 MB/s\u001b[0m eta \u001b[36m0:00:00\u001b[0m\n",
            "\u001b[?25hDownloading cligj-0.7.2-py3-none-any.whl (7.1 kB)\n",
            "Downloading affine-2.4.0-py3-none-any.whl (15 kB)\n",
            "Downloading click_plugins-1.1.1-py2.py3-none-any.whl (7.5 kB)\n",
            "Installing collected packages: cligj, click-plugins, affine, rasterio\n",
            "Successfully installed affine-2.4.0 click-plugins-1.1.1 cligj-0.7.2 rasterio-1.4.3\n"
          ]
        }
      ]
    },
    {
      "cell_type": "code",
      "source": [
        "# Load p2_avg data\n",
        "df = pd.read_csv(csv_path)"
      ],
      "metadata": {
        "id": "Eh8QpByfAO4a"
      },
      "execution_count": 8,
      "outputs": []
    },
    {
      "cell_type": "code",
      "source": [
        "df['P2_arithmetic_avg']"
      ],
      "metadata": {
        "colab": {
          "base_uri": "https://localhost:8080/",
          "height": 458
        },
        "id": "XvcCpn4dAPwm",
        "outputId": "4c64161b-c233-4315-b698-9d5d0dfca8c1"
      },
      "execution_count": 10,
      "outputs": [
        {
          "output_type": "execute_result",
          "data": {
            "text/plain": [
              "0      7.945412\n",
              "1      3.962525\n",
              "2      0.851215\n",
              "3      4.846018\n",
              "4      8.448727\n",
              "         ...   \n",
              "226    1.128434\n",
              "227    4.461930\n",
              "228    5.844139\n",
              "229    4.381589\n",
              "230    4.698623\n",
              "Name: P2_arithmetic_avg, Length: 231, dtype: float64"
            ],
            "text/html": [
              "<div>\n",
              "<style scoped>\n",
              "    .dataframe tbody tr th:only-of-type {\n",
              "        vertical-align: middle;\n",
              "    }\n",
              "\n",
              "    .dataframe tbody tr th {\n",
              "        vertical-align: top;\n",
              "    }\n",
              "\n",
              "    .dataframe thead th {\n",
              "        text-align: right;\n",
              "    }\n",
              "</style>\n",
              "<table border=\"1\" class=\"dataframe\">\n",
              "  <thead>\n",
              "    <tr style=\"text-align: right;\">\n",
              "      <th></th>\n",
              "      <th>P2_arithmetic_avg</th>\n",
              "    </tr>\n",
              "  </thead>\n",
              "  <tbody>\n",
              "    <tr>\n",
              "      <th>0</th>\n",
              "      <td>7.945412</td>\n",
              "    </tr>\n",
              "    <tr>\n",
              "      <th>1</th>\n",
              "      <td>3.962525</td>\n",
              "    </tr>\n",
              "    <tr>\n",
              "      <th>2</th>\n",
              "      <td>0.851215</td>\n",
              "    </tr>\n",
              "    <tr>\n",
              "      <th>3</th>\n",
              "      <td>4.846018</td>\n",
              "    </tr>\n",
              "    <tr>\n",
              "      <th>4</th>\n",
              "      <td>8.448727</td>\n",
              "    </tr>\n",
              "    <tr>\n",
              "      <th>...</th>\n",
              "      <td>...</td>\n",
              "    </tr>\n",
              "    <tr>\n",
              "      <th>226</th>\n",
              "      <td>1.128434</td>\n",
              "    </tr>\n",
              "    <tr>\n",
              "      <th>227</th>\n",
              "      <td>4.461930</td>\n",
              "    </tr>\n",
              "    <tr>\n",
              "      <th>228</th>\n",
              "      <td>5.844139</td>\n",
              "    </tr>\n",
              "    <tr>\n",
              "      <th>229</th>\n",
              "      <td>4.381589</td>\n",
              "    </tr>\n",
              "    <tr>\n",
              "      <th>230</th>\n",
              "      <td>4.698623</td>\n",
              "    </tr>\n",
              "  </tbody>\n",
              "</table>\n",
              "<p>231 rows × 1 columns</p>\n",
              "</div><br><label><b>dtype:</b> float64</label>"
            ]
          },
          "metadata": {},
          "execution_count": 10
        }
      ]
    },
    {
      "cell_type": "code",
      "execution_count": 14,
      "metadata": {
        "colab": {
          "base_uri": "https://localhost:8080/"
        },
        "id": "lS3iNZcBCnib",
        "outputId": "538186de-a428-47f9-ba18-b1becc7ac325"
      },
      "outputs": [
        {
          "output_type": "stream",
          "name": "stdout",
          "text": [
            "Processed raster saved to /content/drive/MyDrive/CCRI_results_misc/p1_p2_avg_pixel.tif\n"
          ]
        }
      ],
      "source": [
        "import geopandas as gpd\n",
        "import rasterio\n",
        "import rasterio.mask\n",
        "import numpy as np\n",
        "import pandas as pd\n",
        "import os\n",
        "from sklearn.preprocessing import MinMaxScaler\n",
        "\n",
        "# File paths\n",
        "input_dir = \"/content/drive/MyDrive/CCRI_results_misc\"\n",
        "image_folder = \"/content/drive/MyDrive/ccri_pixel\"\n",
        "geojson_path = os.path.join(input_dir,\"global_bnd_adm0.geojson\")\n",
        "raster_path = os.path.join(input_dir,\"p1_avg_pixel.tif\")\n",
        "csv_path = os.path.join(input_dir,\"P2_Merged_Normalized_avg.csv\")\n",
        "output_raster_path = os.path.join(input_dir,\"p1_p2_avg_pixel.tif\")\n",
        "mask_path = os.path.join(image_folder, \"landSeaMask.tif\")\n",
        "\n",
        "# Load country boundaries\n",
        "gdf = gpd.read_file(geojson_path)\n",
        "\n",
        "# Load p2_avg data\n",
        "df = pd.read_csv(csv_path)\n",
        "\n",
        "# Ensure ISO3 consistency\n",
        "df[\"iso3\"] = df[\"iso3\"].str.upper()\n",
        "gdf[\"iso3\"] = gdf[\"iso3\"].str.upper()\n",
        "\n",
        "# Merge spatial data with p2_avg values\n",
        "gdf = gdf.merge(df, on=\"iso3\", how=\"left\")\n",
        "\n",
        "# Open the raster file\n",
        "with rasterio.open(raster_path) as src:\n",
        "    profile = src.profile  # Copy metadata\n",
        "    profile.update(dtype=rasterio.float32)  # Ensure output is float32\n",
        "\n",
        "    # Initialize output_data with the original raster values\n",
        "    output_data = src.read(1).astype(np.float32)\n",
        "\n",
        "    for _, row in gdf.iterrows():\n",
        "        iso3_code = row[\"iso3\"]\n",
        "        p2_avg = row[\"P2_arithmetic_avg\"]\n",
        "\n",
        "        if np.isnan(p2_avg):\n",
        "            continue  # Skip countries without p2_avg\n",
        "\n",
        "        geometry = [row[\"geometry\"]]  # Get country polygon\n",
        "\n",
        "        # Mask the raster using the country's geometry\n",
        "        out_image, out_transform = rasterio.mask.mask(src, geometry, crop=False, nodata=np.nan)\n",
        "        out_image = out_image[0]  # Extract the single-band array\n",
        "\n",
        "        # Compute geometric mean where valid values exist\n",
        "        valid_mask = ~np.isnan(out_image)\n",
        "        out_image[valid_mask] = np.sqrt(out_image[valid_mask] * p2_avg)\n",
        "\n",
        "        # Update only the valid pixels in the output raster\n",
        "        output_data[valid_mask] = out_image[valid_mask]\n",
        "\n",
        "with rasterio.open(mask_path) as mask_src:\n",
        "    landsea_mask = mask_src.read(1)  # Assuming single-band mask\n",
        "    land_mask = landsea_mask == 1  # Boolean mask for land pixels\n",
        "\n",
        "scaler = MinMaxScaler(feature_range=(0, 10))\n",
        "out_image[land_mask] = scaler.fit_transform(out_image[land_mask].reshape(-1, 1)).flatten()\n",
        "\n",
        "# Save the output raster\n",
        "with rasterio.open(output_raster_path, 'w', **profile) as dst:\n",
        "    dst.write(output_data, 1)\n",
        "\n",
        "print(f\"Processed raster saved to {output_raster_path}\")\n"
      ]
    },
    {
      "cell_type": "code",
      "source": [],
      "metadata": {
        "id": "GWPyB7li90Ee"
      },
      "execution_count": null,
      "outputs": []
    }
  ]
}